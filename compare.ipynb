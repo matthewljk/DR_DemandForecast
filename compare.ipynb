{
 "cells": [
  {
   "cell_type": "markdown",
   "metadata": {},
   "source": [
    "# Compare the forecasts with real records"
   ]
  },
  {
   "cell_type": "code",
   "execution_count": null,
   "metadata": {},
   "outputs": [],
   "source": [
    "import pandas as pd\n",
    "from sqlalchemy import create_engine\n",
    "import os\n",
    "from dotenv import load_dotenv\n",
    "\n",
    "# Load the environment variables from the .env file\n",
    "load_dotenv('.env')\n",
    "\n",
    "# Get the values of host, user, pswd, db, and schema from the environment variables\n",
    "host = os.getenv('host')\n",
    "user = os.getenv('user')\n",
    "pswd = os.getenv('pswd')\n",
    "db = os.getenv('db')\n",
    "schema = os.getenv('schema')\n",
    "\n",
    "\n",
    "# Use the values as needed\n",
    "engine = create_engine(\n",
    "    f\"postgresql://{user}:{pswd}@{host}/{db}?options=-csearch_path%3D{schema}\", echo=False)\n",
    "conn = engine.connect()"
   ]
  },
  {
   "cell_type": "code",
   "execution_count": null,
   "metadata": {},
   "outputs": [],
   "source": [
    "import datetime as dt\n",
    "import pytz\n",
    "\n",
    "now = dt.datetime.now(pytz.timezone('Asia/Singapore'))\n",
    "date = now.strftime(\"%Y-%m-%d\")\n",
    "time = now.strftime(\"%H:%M\")\n",
    "\n",
    "period = int(now.strftime(\"%H\")) * 2 + int(now.strftime(\"%M\")) // 30 + 1\n",
    "\n",
    "# date = '2024-03-25' # A hard-coded value for testing\n",
    "# period = 33 # A hard-coded value for testing\n",
    "\n",
    "# print(f\"Now is {date} {time} Period {period}\")"
   ]
  },
  {
   "cell_type": "code",
   "execution_count": null,
   "metadata": {},
   "outputs": [],
   "source": [
    "predicted = pd.read_sql(f\"\"\"\n",
    "SELECT \"Date\", \"Period\", \"Predicted_Demand\"\n",
    "FROM public.\"Predicted_Demand\"\n",
    "\"\"\", conn)\n",
    "predicted.sort_values(by=['Date', 'Period'], inplace=True)\n",
    "predicted.tail(5)"
   ]
  },
  {
   "cell_type": "code",
   "execution_count": null,
   "metadata": {},
   "outputs": [],
   "source": [
    "earliest_date = predicted.iloc[0, 0].strftime(\"%Y-%m-%d\")\n",
    "rt_dpr = pd.read_sql(f\"\"\"\n",
    "SELECT \"Date\", \"Period\", \"Demand\", \"TCL\", \"Transmission_Loss\"\n",
    "FROM public.\"Real_Time_DPR\"\n",
    "WHERE (\"Date\" >= '{earliest_date}')\n",
    "ORDER BY \"Date\", \"Period\"  \n",
    "\"\"\", conn)\n",
    "rt_dpr.sort_values(by=['Date', 'Period'], inplace=True)\n",
    "rt_dpr.reset_index(drop=True, inplace=True)\n",
    "rt_dpr.fillna(0, inplace=True)\n",
    "# rt_dpr.head(5)"
   ]
  },
  {
   "cell_type": "code",
   "execution_count": null,
   "metadata": {},
   "outputs": [],
   "source": [
    "def return_real(row):\n",
    "    date = row['Date']\n",
    "    period = row['Period']\n",
    "\n",
    "    real = rt_dpr[(rt_dpr['Date'] == date) & (rt_dpr['Period'] == period)]\n",
    "    real[\"total\"] = real['Demand'] + real['TCL'] + real['Transmission_Loss']\n",
    "    real = real[\"total\"].values[0]\n",
    "    # print(real)\n",
    "\n",
    "    return real\n",
    "\n",
    "predicted[\"Real\"] = predicted.apply(lambda row: return_real(row), axis=1)\n",
    "predicted[\"Error (R-P)\"] = predicted[\"Real\"] - predicted[\"Predicted_Demand\"]"
   ]
  },
  {
   "cell_type": "code",
   "execution_count": null,
   "metadata": {},
   "outputs": [],
   "source": [
    "from sklearn.metrics import mean_squared_error\n",
    "import numpy as np\n",
    "\n",
    "score = np.sqrt(mean_squared_error(predicted[\"Real\"], predicted[\"Predicted_Demand\"]))"
   ]
  },
  {
   "cell_type": "code",
   "execution_count": null,
   "metadata": {},
   "outputs": [],
   "source": [
    "print(f\"Now is {date} {time} Period {period}\")\n",
    "print(f\"RMSE: {score}\")\n",
    "predicted"
   ]
  },
  {
   "cell_type": "code",
   "execution_count": null,
   "metadata": {},
   "outputs": [],
   "source": [
    "conn.close()"
   ]
  },
  {
   "cell_type": "code",
   "execution_count": null,
   "metadata": {},
   "outputs": [],
   "source": []
  }
 ],
 "metadata": {
  "kernelspec": {
   "display_name": "sp-tf-cpu",
   "language": "python",
   "name": "python3"
  },
  "language_info": {
   "codemirror_mode": {
    "name": "ipython",
    "version": 3
   },
   "file_extension": ".py",
   "mimetype": "text/x-python",
   "name": "python",
   "nbconvert_exporter": "python",
   "pygments_lexer": "ipython3",
   "version": "3.11.8"
  }
 },
 "nbformat": 4,
 "nbformat_minor": 2
}
