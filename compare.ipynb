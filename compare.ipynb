{
 "cells": [
  {
   "cell_type": "markdown",
   "metadata": {},
   "source": [
    "# Compare the forecasts with real records"
   ]
  },
  {
   "cell_type": "code",
   "execution_count": 20,
   "metadata": {},
   "outputs": [],
   "source": [
    "import pandas as pd\n",
    "from sqlalchemy import create_engine\n",
    "import os\n",
    "from dotenv import load_dotenv\n",
    "\n",
    "# Load the environment variables from the .env file\n",
    "load_dotenv('.env')\n",
    "\n",
    "# Get the values of host, user, pswd, db, and schema from the environment variables\n",
    "host = os.getenv('host')\n",
    "user = os.getenv('user')\n",
    "pswd = os.getenv('pswd')\n",
    "db = os.getenv('db')\n",
    "schema = os.getenv('schema')\n",
    "\n",
    "\n",
    "# Use the values as needed\n",
    "engine = create_engine(\n",
    "    f\"postgresql://{user}:{pswd}@{host}/{db}?options=-csearch_path%3D{schema}\", echo=False)\n",
    "conn = engine.connect()"
   ]
  },
  {
   "cell_type": "code",
   "execution_count": 21,
   "metadata": {},
   "outputs": [],
   "source": [
    "import datetime as dt\n",
    "import pytz\n",
    "\n",
    "now = dt.datetime.now(pytz.timezone('Asia/Singapore'))\n",
    "date = now.strftime(\"%Y-%m-%d\")\n",
    "time = now.strftime(\"%H:%M\")\n",
    "\n",
    "period = int(now.strftime(\"%H\")) * 2 + int(now.strftime(\"%M\")) // 30 + 1\n",
    "\n",
    "# date = '2024-03-25' # A hard-coded value for testing\n",
    "# period = 33 # A hard-coded value for testing\n",
    "\n",
    "# print(f\"Now is {date} {time} Period {period}\")"
   ]
  },
  {
   "cell_type": "code",
   "execution_count": 22,
   "metadata": {},
   "outputs": [
    {
     "data": {
      "text/html": [
       "<div>\n",
       "<style scoped>\n",
       "    .dataframe tbody tr th:only-of-type {\n",
       "        vertical-align: middle;\n",
       "    }\n",
       "\n",
       "    .dataframe tbody tr th {\n",
       "        vertical-align: top;\n",
       "    }\n",
       "\n",
       "    .dataframe thead th {\n",
       "        text-align: right;\n",
       "    }\n",
       "</style>\n",
       "<table border=\"1\" class=\"dataframe\">\n",
       "  <thead>\n",
       "    <tr style=\"text-align: right;\">\n",
       "      <th></th>\n",
       "      <th>Date</th>\n",
       "      <th>Period</th>\n",
       "      <th>Predicted_Demand</th>\n",
       "    </tr>\n",
       "  </thead>\n",
       "  <tbody>\n",
       "    <tr>\n",
       "      <th>0</th>\n",
       "      <td>2024-03-27</td>\n",
       "      <td>31</td>\n",
       "      <td>7154.28884</td>\n",
       "    </tr>\n",
       "  </tbody>\n",
       "</table>\n",
       "</div>"
      ],
      "text/plain": [
       "         Date  Period  Predicted_Demand\n",
       "0  2024-03-27      31        7154.28884"
      ]
     },
     "execution_count": 22,
     "metadata": {},
     "output_type": "execute_result"
    }
   ],
   "source": [
    "predicted = pd.read_sql(f\"\"\"\n",
    "SELECT \"Date\", \"Period\", \"Predicted_Demand\"\n",
    "FROM public.\"Predicted_Demand\"\n",
    "\"\"\", conn)\n",
    "predicted.sort_values(by=['Date', 'Period'], inplace=True)\n",
    "predicted.tail(5)"
   ]
  },
  {
   "cell_type": "code",
   "execution_count": 23,
   "metadata": {},
   "outputs": [],
   "source": [
    "earliest_date = predicted.iloc[0, 0].strftime(\"%Y-%m-%d\")\n",
    "rt_dpr = pd.read_sql(f\"\"\"\n",
    "SELECT \"Date\", \"Period\", \"Demand\", \"TCL\", \"Transmission_Loss\"\n",
    "FROM public.\"Real_Time_DPR\"\n",
    "WHERE (\"Date\" >= '{earliest_date}')\n",
    "ORDER BY \"Date\", \"Period\"  \n",
    "\"\"\", conn)\n",
    "rt_dpr.sort_values(by=['Date', 'Period'], inplace=True)\n",
    "rt_dpr.reset_index(drop=True, inplace=True)\n",
    "# rt_dpr.head(5)"
   ]
  },
  {
   "cell_type": "code",
   "execution_count": 24,
   "metadata": {},
   "outputs": [],
   "source": [
    "def return_real(row):\n",
    "    date = row['Date']\n",
    "    period = row['Period']\n",
    "\n",
    "    real = rt_dpr[(rt_dpr['Date'] == date) & (rt_dpr['Period'] == period)]\n",
    "    real[\"total\"] = real['Demand'] + real['TCL'] + real['Transmission_Loss']\n",
    "    real = real[\"total\"].values[0]\n",
    "    # print(real)\n",
    "\n",
    "    return real\n",
    "\n",
    "predicted[\"Real\"] = predicted.apply(lambda row: return_real(row), axis=1)\n",
    "predicted[\"Error (R-P)\"] = predicted[\"Real\"] - predicted[\"Predicted_Demand\"]"
   ]
  },
  {
   "cell_type": "code",
   "execution_count": 25,
   "metadata": {},
   "outputs": [
    {
     "name": "stdout",
     "output_type": "stream",
     "text": [
      "Now is 2024-03-27 14:59 Period 30\n"
     ]
    },
    {
     "data": {
      "text/html": [
       "<div>\n",
       "<style scoped>\n",
       "    .dataframe tbody tr th:only-of-type {\n",
       "        vertical-align: middle;\n",
       "    }\n",
       "\n",
       "    .dataframe tbody tr th {\n",
       "        vertical-align: top;\n",
       "    }\n",
       "\n",
       "    .dataframe thead th {\n",
       "        text-align: right;\n",
       "    }\n",
       "</style>\n",
       "<table border=\"1\" class=\"dataframe\">\n",
       "  <thead>\n",
       "    <tr style=\"text-align: right;\">\n",
       "      <th></th>\n",
       "      <th>Date</th>\n",
       "      <th>Period</th>\n",
       "      <th>Predicted_Demand</th>\n",
       "      <th>Real</th>\n",
       "      <th>Error (R-P)</th>\n",
       "    </tr>\n",
       "  </thead>\n",
       "  <tbody>\n",
       "    <tr>\n",
       "      <th>0</th>\n",
       "      <td>2024-03-27</td>\n",
       "      <td>31</td>\n",
       "      <td>7154.28884</td>\n",
       "      <td>7127.203</td>\n",
       "      <td>-27.08584</td>\n",
       "    </tr>\n",
       "  </tbody>\n",
       "</table>\n",
       "</div>"
      ],
      "text/plain": [
       "         Date  Period  Predicted_Demand      Real  Error (R-P)\n",
       "0  2024-03-27      31        7154.28884  7127.203    -27.08584"
      ]
     },
     "execution_count": 25,
     "metadata": {},
     "output_type": "execute_result"
    }
   ],
   "source": [
    "print(f\"Now is {date} {time} Period {period}\")\n",
    "predicted"
   ]
  },
  {
   "cell_type": "code",
   "execution_count": 26,
   "metadata": {},
   "outputs": [],
   "source": [
    "conn.close()"
   ]
  },
  {
   "cell_type": "code",
   "execution_count": null,
   "metadata": {},
   "outputs": [],
   "source": []
  }
 ],
 "metadata": {
  "kernelspec": {
   "display_name": "sp-tf-cpu",
   "language": "python",
   "name": "python3"
  },
  "language_info": {
   "codemirror_mode": {
    "name": "ipython",
    "version": 3
   },
   "file_extension": ".py",
   "mimetype": "text/x-python",
   "name": "python",
   "nbconvert_exporter": "python",
   "pygments_lexer": "ipython3",
   "version": "3.11.8"
  }
 },
 "nbformat": 4,
 "nbformat_minor": 2
}
