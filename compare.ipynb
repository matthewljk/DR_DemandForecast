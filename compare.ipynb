{
 "cells": [
  {
   "cell_type": "markdown",
   "metadata": {},
   "source": [
    "# Compare the forecasts with real records"
   ]
  },
  {
   "cell_type": "code",
   "execution_count": 61,
   "metadata": {},
   "outputs": [],
   "source": [
    "import pandas as pd\n",
    "from sqlalchemy import create_engine\n",
    "import os\n",
    "from dotenv import load_dotenv\n",
    "\n",
    "# Load the environment variables from the .env file\n",
    "load_dotenv('.env')\n",
    "\n",
    "# Get the values of host, user, pswd, db, and schema from the environment variables\n",
    "host = os.getenv('host')\n",
    "user = os.getenv('user')\n",
    "pswd = os.getenv('pswd')\n",
    "db = os.getenv('db')\n",
    "schema = os.getenv('schema')\n",
    "\n",
    "\n",
    "# Use the values as needed\n",
    "engine = create_engine(\n",
    "    f\"postgresql://{user}:{pswd}@{host}/{db}?options=-csearch_path%3D{schema}\", echo=False)\n",
    "conn = engine.connect()"
   ]
  },
  {
   "cell_type": "code",
   "execution_count": 62,
   "metadata": {},
   "outputs": [],
   "source": [
    "import datetime as dt\n",
    "import pytz\n",
    "\n",
    "now = dt.datetime.now(pytz.timezone('Asia/Singapore'))\n",
    "date = now.strftime(\"%Y-%m-%d\")\n",
    "time = now.strftime(\"%H:%M\")\n",
    "\n",
    "period = int(now.strftime(\"%H\")) * 2 + int(now.strftime(\"%M\")) // 30 + 1\n",
    "\n",
    "# date = '2024-03-25' # A hard-coded value for testing\n",
    "# period = 33 # A hard-coded value for testing\n",
    "\n",
    "# print(f\"Now is {date} {time} Period {period}\")"
   ]
  },
  {
   "cell_type": "code",
   "execution_count": 63,
   "metadata": {},
   "outputs": [],
   "source": [
    "predicted = pd.read_sql(f\"\"\"\n",
    "SELECT \"Date\", \"Period\", \"Predicted_Net_Demand\"\n",
    "FROM public.\"Predicted_Net_Demand\"\n",
    "\"\"\", conn)\n",
    "predicted.sort_values(by=['Date', 'Period'], inplace=True)\n",
    "# predicted.tail(5)"
   ]
  },
  {
   "cell_type": "code",
   "execution_count": 64,
   "metadata": {},
   "outputs": [],
   "source": [
    "earliest_date = predicted.iloc[0, 0].strftime(\"%Y-%m-%d\")\n",
    "rt_dpr = pd.read_sql(f\"\"\"\n",
    "SELECT \"Date\", \"Period\", \"Demand\", \"TCL\", \"Transmission_Loss\"\n",
    "FROM public.\"Real_Time_DPR\"\n",
    "WHERE (\"Date\" >= '{earliest_date}')\n",
    "ORDER BY \"Date\", \"Period\"  \n",
    "\"\"\", conn)\n",
    "rt_dpr.sort_values(by=['Date', 'Period'], inplace=True)\n",
    "rt_dpr.reset_index(drop=True, inplace=True)\n",
    "# rt_dpr.head(5)"
   ]
  },
  {
   "cell_type": "code",
   "execution_count": 65,
   "metadata": {},
   "outputs": [],
   "source": [
    "vc_per = pd.read_sql('SELECT * FROM public.\"VCData_Period\"', conn)\n",
    "# vc_per.iloc[[0, -1]]"
   ]
  },
  {
   "cell_type": "code",
   "execution_count": 66,
   "metadata": {},
   "outputs": [],
   "source": [
    "import holidays\n",
    "\n",
    "# Calculate required data fields\n",
    "\n",
    "sg_holidays = holidays.country_holidays('SG')\n",
    "\n",
    "rt_dpr['Total Demand'] = rt_dpr['Demand'] + rt_dpr['TCL'] + rt_dpr['Transmission_Loss']\n",
    "view = rt_dpr[['Date', 'Period', 'Total Demand']].copy()\n",
    "\n",
    "def find_tcq(row):\n",
    "    # print(row)\n",
    "    date_obj = dt.datetime.strptime(str(row['Date']), '%Y-%m-%d')\n",
    "    year = date_obj.year\n",
    "    quarter = (date_obj.month - 1) // 3 + 1\n",
    "    \n",
    "    period = row['Period']\n",
    "    \n",
    "    isWeekend = 1 if date_obj.isoweekday() > 5 else 0\n",
    "    isPublicHoliday = date_obj in sg_holidays\n",
    "    \n",
    "    if isWeekend or isPublicHoliday:\n",
    "        # print(f\"Date: {date_obj} isWeekend: {isWeekend} isPublicHoliday: {isPublicHoliday}\")\n",
    "        tcq = vc_per[(vc_per['Year'] == year) & (vc_per['Quarter'] == quarter) & (vc_per['Period'] == period)]['TCQ_Weekday'].values[0] / 1000\n",
    "    else:\n",
    "        tcq = vc_per[(vc_per['Year'] == year) & (vc_per['Quarter'] == quarter) & (vc_per['Period'] == period)]['TCQ_Weekend_PH'].values[0] / 1000\n",
    "\n",
    "    # print(f\"Date: {date_obj} TCQ: {tcq}\")\n",
    "    return tcq\n",
    "\n",
    "view['TCQ'] = view.apply(lambda row: find_tcq(row), axis=1)\n",
    "view['Net Demand'] = view['Total Demand'] - view['TCQ']\n",
    "view.reset_index(drop=True, inplace=True)\n",
    "# view.head(2)"
   ]
  },
  {
   "cell_type": "code",
   "execution_count": 67,
   "metadata": {},
   "outputs": [],
   "source": [
    "def return_real(row):\n",
    "    date = row['Date']\n",
    "    \n",
    "    period = row['Period']\n",
    "    real = view[(view['Date'] == date) & (view['Period'] == period)]\n",
    "    real = real[\"Net Demand\"].values[0]\n",
    "    # print(real)\n",
    "\n",
    "    return real\n",
    "\n",
    "predicted[\"Real\"] = predicted.apply(lambda row: return_real(row), axis=1)\n",
    "predicted[\"Error (R-P)\"] = predicted[\"Real\"] - predicted[\"Predicted_Net_Demand\"]"
   ]
  },
  {
   "cell_type": "code",
   "execution_count": 68,
   "metadata": {},
   "outputs": [
    {
     "name": "stdout",
     "output_type": "stream",
     "text": [
      "Now is 2024-03-27 14:26 Period 29\n"
     ]
    },
    {
     "data": {
      "text/html": [
       "<div>\n",
       "<style scoped>\n",
       "    .dataframe tbody tr th:only-of-type {\n",
       "        vertical-align: middle;\n",
       "    }\n",
       "\n",
       "    .dataframe tbody tr th {\n",
       "        vertical-align: top;\n",
       "    }\n",
       "\n",
       "    .dataframe thead th {\n",
       "        text-align: right;\n",
       "    }\n",
       "</style>\n",
       "<table border=\"1\" class=\"dataframe\">\n",
       "  <thead>\n",
       "    <tr style=\"text-align: right;\">\n",
       "      <th></th>\n",
       "      <th>Date</th>\n",
       "      <th>Period</th>\n",
       "      <th>Predicted_Net_Demand</th>\n",
       "      <th>Real</th>\n",
       "      <th>Error (R-P)</th>\n",
       "    </tr>\n",
       "  </thead>\n",
       "  <tbody>\n",
       "    <tr>\n",
       "      <th>0</th>\n",
       "      <td>2024-03-27</td>\n",
       "      <td>30</td>\n",
       "      <td>6583.65625</td>\n",
       "      <td>6510.33361</td>\n",
       "      <td>-73.32264</td>\n",
       "    </tr>\n",
       "  </tbody>\n",
       "</table>\n",
       "</div>"
      ],
      "text/plain": [
       "         Date  Period  Predicted_Net_Demand        Real  Error (R-P)\n",
       "0  2024-03-27      30            6583.65625  6510.33361    -73.32264"
      ]
     },
     "execution_count": 68,
     "metadata": {},
     "output_type": "execute_result"
    }
   ],
   "source": [
    "print(f\"Now is {date} {time} Period {period}\")\n",
    "predicted"
   ]
  },
  {
   "cell_type": "code",
   "execution_count": 69,
   "metadata": {},
   "outputs": [],
   "source": [
    "conn.close()"
   ]
  },
  {
   "cell_type": "code",
   "execution_count": null,
   "metadata": {},
   "outputs": [],
   "source": []
  }
 ],
 "metadata": {
  "kernelspec": {
   "display_name": "sp-tf-cpu",
   "language": "python",
   "name": "python3"
  },
  "language_info": {
   "codemirror_mode": {
    "name": "ipython",
    "version": 3
   },
   "file_extension": ".py",
   "mimetype": "text/x-python",
   "name": "python",
   "nbconvert_exporter": "python",
   "pygments_lexer": "ipython3",
   "version": "3.11.8"
  }
 },
 "nbformat": 4,
 "nbformat_minor": 2
}
