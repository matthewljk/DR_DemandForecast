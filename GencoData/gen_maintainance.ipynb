{
 "cells": [
  {
   "cell_type": "markdown",
   "metadata": {},
   "source": [
    "## Import\n",
    "After manually copying the content from matainance table into a new one `AGOP_2024_copy.xlsx`, import the sheet by read_excel"
   ]
  },
  {
   "cell_type": "code",
   "execution_count": null,
   "metadata": {},
   "outputs": [],
   "source": [
    "import os\n",
    "from os.path import join\n",
    "import pandas as pd\n",
    "ROOT = '/home/sdc/DR_DemandForecast/GencoData'\n",
    "\n",
    "file_path = join(ROOT, 'AGOP_2024_copy.xlsx')\n",
    "df = pd.read_excel(file_path, skiprows=4, usecols='A:M')\n",
    "#df.head()\n",
    "    "
   ]
  },
  {
   "cell_type": "markdown",
   "metadata": {},
   "source": [
    "## Get Undermaintanance data"
   ]
  },
  {
   "cell_type": "code",
   "execution_count": null,
   "metadata": {},
   "outputs": [],
   "source": [
    "import pandas as pd\n",
    "from datetime import datetime, timedelta\n",
    "import re\n",
    "\n",
    "def generate_date_range(start_date, end_date):\n",
    "    return [start_date + timedelta(days=x) for x in range((end_date - start_date).days + 1)]\n",
    "\n",
    "def parse_maintenance_periods(maintenance_str):\n",
    "    periods = re.findall(r'(\\d{2}/\\d{2})-{2,}(\\d{2}/\\d{2})', maintenance_str)\n",
    "    date_ranges = []\n",
    "    for start_str, end_str in periods:\n",
    "        start_date = datetime.strptime(f\"{start_str}/2024\", '%d/%m/%Y')\n",
    "        end_date = datetime.strptime(f\"{end_str}/2024\", '%d/%m/%Y')\n",
    "        date_ranges.extend(generate_date_range(start_date, end_date))\n",
    "    return date_ranges\n",
    "\n",
    "# Initialize a new DataFrame for the desired output\n",
    "new_data = {'Date': [], 'Generating Unit': [], 'Under Maintenance': []}\n",
    "\n",
    "# Iterate over each row\n",
    "for index, row in df.iterrows():\n",
    "    generator_unit = row['GENERATING UNIT']\n",
    "    # Iterate over each month\n",
    "    for month in df.columns[1:]:\n",
    "        maintenance_str = row[month]\n",
    "        # If there is a maintenance period\n",
    "        if pd.notna(maintenance_str):\n",
    "            # Parse the maintenance periods and add to the new data structure\n",
    "            date_ranges = parse_maintenance_periods(maintenance_str)\n",
    "            #print(date_ranges)\n",
    "            for date in date_ranges:\n",
    "                new_data['Date'].append(date)\n",
    "                new_data['Generating Unit'].append(generator_unit)\n",
    "                new_data['Under Maintenance'].append(1)\n",
    "\n",
    "# Create a new DataFrame from the new data structure\n",
    "maintenance_df = pd.DataFrame(new_data)\n",
    "#maintenance_df\n"
   ]
  },
  {
   "cell_type": "markdown",
   "metadata": {},
   "source": [
    "## Transform the data\n",
    "\n",
    "Construct dataframe by date and generating unit."
   ]
  },
  {
   "cell_type": "code",
   "execution_count": null,
   "metadata": {},
   "outputs": [],
   "source": [
    "import datetime as dt\n",
    "\n",
    "# Initialize a DataFrame for the whole year with a row for each day\n",
    "all_dates = pd.date_range(start='2024-01-01', end='2024-12-31')\n",
    "year_df = pd.DataFrame(all_dates, columns=['Date'])\n",
    "\n",
    "# Convert 'Generating Unit' into column headers and fill with True where maintenance is scheduled\n",
    "pivot_df = maintenance_df.pivot_table(index='Date', columns='Generating Unit', values='Under Maintenance', aggfunc='first', fill_value=0)\n",
    "\n",
    "#  Reset the index to have 'Date' as a column again\n",
    "pivot_df.reset_index(inplace=True)\n",
    "pivot_df.rename(columns={'index': 'Date'}, inplace=True)\n",
    "\n",
    "# Remove the name of the column index\n",
    "pivot_df.columns.name = None\n",
    "\n",
    "# Strip leading and trailing whitespace from the column names\n",
    "pivot_df.columns = pivot_df.columns.str.strip()\n",
    "\n",
    "pivot_df['Date'] = pd.to_datetime(pivot_df['Date']).dt.date\n",
    "#pivot_df"
   ]
  },
  {
   "cell_type": "code",
   "execution_count": null,
   "metadata": {},
   "outputs": [],
   "source": [
    "# save the csv file for review\n",
    "csv_file_path = join(ROOT, 'gen_maintain_view.csv')\n",
    "pivot_df.to_csv(csv_file_path, index=False)"
   ]
  },
  {
   "cell_type": "markdown",
   "metadata": {},
   "source": [
    "## Save to DB"
   ]
  },
  {
   "cell_type": "code",
   "execution_count": null,
   "metadata": {},
   "outputs": [],
   "source": [
    "\n",
    "from sqlalchemy import create_engine, text\n",
    "from dotenv import load_dotenv\n",
    "\n",
    "# Load the environment variables from the .env file\n",
    "env_file = join(ROOT, '.env')\n",
    "load_dotenv(env_file)\n",
    "\n",
    "# Get the values of host, user, pswd, db, and schema from the environment variables\n",
    "DBHOST = os.getenv('host')\n",
    "DBUSER = os.getenv('user')\n",
    "DBPSWD = os.getenv('pswd')\n",
    "DBNAME = os.getenv('db')\n",
    "SCHEMA = 'public'\n",
    "\n",
    "# Use the values as needed\n",
    "engine = create_engine(f\"postgresql://{DBUSER}:{DBPSWD}@{DBHOST}/{DBNAME}?options=-csearch_path%3D{SCHEMA}\", echo=False)\n",
    "conn = engine.connect()"
   ]
  },
  {
   "cell_type": "code",
   "execution_count": null,
   "metadata": {},
   "outputs": [],
   "source": [
    "pivot_df.to_sql('AGOP', con=conn, if_exists='replace', index=False)"
   ]
  },
  {
   "cell_type": "code",
   "execution_count": null,
   "metadata": {},
   "outputs": [],
   "source": [
    "conn.commit()\n",
    "conn.close()"
   ]
  },
  {
   "cell_type": "code",
   "execution_count": null,
   "metadata": {},
   "outputs": [],
   "source": []
  }
 ],
 "metadata": {
  "kernelspec": {
   "display_name": "sp-tf",
   "language": "python",
   "name": "python3"
  },
  "language_info": {
   "codemirror_mode": {
    "name": "ipython",
    "version": 3
   },
   "file_extension": ".py",
   "mimetype": "text/x-python",
   "name": "python",
   "nbconvert_exporter": "python",
   "pygments_lexer": "ipython3",
   "version": "3.11.8"
  }
 },
 "nbformat": 4,
 "nbformat_minor": 2
}
