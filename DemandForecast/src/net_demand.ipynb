{
 "cells": [
  {
   "cell_type": "markdown",
   "metadata": {},
   "source": [
    "# Net Demand\n",
    "\n",
    "`Net Demand` = `Total Demand` - `Vesting Contract`\n",
    "             = `Demand` + `TCL` + `Transmisson Loss` - `Vesting Contract`"
   ]
  },
  {
   "cell_type": "code",
   "execution_count": 1,
   "metadata": {},
   "outputs": [
    {
     "data": {
      "text/html": [
       "<div>\n",
       "<style scoped>\n",
       "    .dataframe tbody tr th:only-of-type {\n",
       "        vertical-align: middle;\n",
       "    }\n",
       "\n",
       "    .dataframe tbody tr th {\n",
       "        vertical-align: top;\n",
       "    }\n",
       "\n",
       "    .dataframe thead th {\n",
       "        text-align: right;\n",
       "    }\n",
       "</style>\n",
       "<table border=\"1\" class=\"dataframe\">\n",
       "  <thead>\n",
       "    <tr style=\"text-align: right;\">\n",
       "      <th></th>\n",
       "      <th>Date</th>\n",
       "      <th>Period</th>\n",
       "      <th>Demand</th>\n",
       "      <th>TCL</th>\n",
       "      <th>TransmissionLoss</th>\n",
       "    </tr>\n",
       "  </thead>\n",
       "  <tbody>\n",
       "    <tr>\n",
       "      <th>0</th>\n",
       "      <td>2023-07-01</td>\n",
       "      <td>1</td>\n",
       "      <td>6086.883</td>\n",
       "      <td>0.0</td>\n",
       "      <td>32.68</td>\n",
       "    </tr>\n",
       "  </tbody>\n",
       "</table>\n",
       "</div>"
      ],
      "text/plain": [
       "         Date  Period    Demand  TCL  TransmissionLoss\n",
       "0  2023-07-01       1  6086.883  0.0             32.68"
      ]
     },
     "execution_count": 1,
     "metadata": {},
     "output_type": "execute_result"
    }
   ],
   "source": [
    "import pandas as pd\n",
    "\n",
    "rt_dpr = pd.read_csv('./data/RT_DPR.csv')\n",
    "rt_dpr = rt_dpr[['Date', 'Period', 'Demand', 'TCL', 'TransmissionLoss']]\n",
    "rt_dpr['TransmissionLoss'] = rt_dpr['TransmissionLoss'].fillna(0)\n",
    "rt_dpr = rt_dpr[rt_dpr['Date'] > '2023-06-30']\n",
    "rt_dpr = rt_dpr.sort_values(by=['Date', 'Period'])\n",
    "rt_dpr.reset_index(drop=True, inplace=True)\n",
    "rt_dpr.head(1)"
   ]
  },
  {
   "cell_type": "code",
   "execution_count": 2,
   "metadata": {},
   "outputs": [],
   "source": [
    "vc_per = pd.read_csv('./data/VCData_Period.csv')"
   ]
  },
  {
   "cell_type": "markdown",
   "metadata": {},
   "source": [
    "Create a view of [Total Demand, TCQ, Net Demand] from `rt_dpr` and `vc_per`."
   ]
  },
  {
   "cell_type": "code",
   "execution_count": 3,
   "metadata": {},
   "outputs": [],
   "source": [
    "rt_dpr['Total Demand'] = rt_dpr['Demand'] + rt_dpr['TCL'] + rt_dpr['TransmissionLoss']\n",
    "view = rt_dpr[['Date', 'Period', 'Total Demand']].copy()"
   ]
  },
  {
   "cell_type": "code",
   "execution_count": 4,
   "metadata": {},
   "outputs": [],
   "source": [
    "import holidays\n",
    "\n",
    "sg_holidays = holidays.country_holidays('SG')"
   ]
  },
  {
   "cell_type": "code",
   "execution_count": 5,
   "metadata": {},
   "outputs": [],
   "source": [
    "import datetime as dt\n",
    "def find_tcq(row):\n",
    "    # print(row)\n",
    "    date_obj = dt.datetime.strptime(row['Date'], '%Y-%m-%d')\n",
    "    year = date_obj.year\n",
    "    quarter = (date_obj.month - 1) // 3 + 1\n",
    "    \n",
    "    isWeekend = 1 if date_obj.isoweekday() > 5 else 0\n",
    "    isPublicHoliday = date_obj in sg_holidays\n",
    "    \n",
    "    if isWeekend or isPublicHoliday:\n",
    "        return vc_per[(vc_per['Year'] == year) & (vc_per['Quarter'] == quarter)]['TCQ_Weekend_PH'].values[0] / 1000\n",
    "    else:\n",
    "        return vc_per[(vc_per['Year'] == year) & (vc_per['Quarter'] == quarter)]['TCQ_Weekday'].values[0] / 1000"
   ]
  },
  {
   "cell_type": "code",
   "execution_count": 6,
   "metadata": {},
   "outputs": [
    {
     "data": {
      "text/html": [
       "<div>\n",
       "<style scoped>\n",
       "    .dataframe tbody tr th:only-of-type {\n",
       "        vertical-align: middle;\n",
       "    }\n",
       "\n",
       "    .dataframe tbody tr th {\n",
       "        vertical-align: top;\n",
       "    }\n",
       "\n",
       "    .dataframe thead th {\n",
       "        text-align: right;\n",
       "    }\n",
       "</style>\n",
       "<table border=\"1\" class=\"dataframe\">\n",
       "  <thead>\n",
       "    <tr style=\"text-align: right;\">\n",
       "      <th></th>\n",
       "      <th>Date</th>\n",
       "      <th>Period</th>\n",
       "      <th>Total Demand</th>\n",
       "      <th>TCQ</th>\n",
       "      <th>Net Demand</th>\n",
       "    </tr>\n",
       "  </thead>\n",
       "  <tbody>\n",
       "    <tr>\n",
       "      <th>12801</th>\n",
       "      <td>2024-03-23</td>\n",
       "      <td>34</td>\n",
       "      <td>6491.688</td>\n",
       "      <td>415.350538</td>\n",
       "      <td>6076.337462</td>\n",
       "    </tr>\n",
       "    <tr>\n",
       "      <th>12802</th>\n",
       "      <td>2024-03-23</td>\n",
       "      <td>35</td>\n",
       "      <td>6492.116</td>\n",
       "      <td>415.350538</td>\n",
       "      <td>6076.765462</td>\n",
       "    </tr>\n",
       "    <tr>\n",
       "      <th>12803</th>\n",
       "      <td>2024-03-23</td>\n",
       "      <td>36</td>\n",
       "      <td>6544.045</td>\n",
       "      <td>415.350538</td>\n",
       "      <td>6128.694462</td>\n",
       "    </tr>\n",
       "    <tr>\n",
       "      <th>12804</th>\n",
       "      <td>2024-03-23</td>\n",
       "      <td>37</td>\n",
       "      <td>6628.170</td>\n",
       "      <td>415.350538</td>\n",
       "      <td>6212.819462</td>\n",
       "    </tr>\n",
       "    <tr>\n",
       "      <th>12805</th>\n",
       "      <td>2024-03-23</td>\n",
       "      <td>38</td>\n",
       "      <td>6731.825</td>\n",
       "      <td>415.350538</td>\n",
       "      <td>6316.474462</td>\n",
       "    </tr>\n",
       "    <tr>\n",
       "      <th>...</th>\n",
       "      <td>...</td>\n",
       "      <td>...</td>\n",
       "      <td>...</td>\n",
       "      <td>...</td>\n",
       "      <td>...</td>\n",
       "    </tr>\n",
       "    <tr>\n",
       "      <th>12892</th>\n",
       "      <td>2024-03-25</td>\n",
       "      <td>29</td>\n",
       "      <td>6979.539</td>\n",
       "      <td>355.818726</td>\n",
       "      <td>6623.720274</td>\n",
       "    </tr>\n",
       "    <tr>\n",
       "      <th>12893</th>\n",
       "      <td>2024-03-25</td>\n",
       "      <td>30</td>\n",
       "      <td>7042.605</td>\n",
       "      <td>355.818726</td>\n",
       "      <td>6686.786274</td>\n",
       "    </tr>\n",
       "    <tr>\n",
       "      <th>12894</th>\n",
       "      <td>2024-03-25</td>\n",
       "      <td>31</td>\n",
       "      <td>7067.406</td>\n",
       "      <td>355.818726</td>\n",
       "      <td>6711.587274</td>\n",
       "    </tr>\n",
       "    <tr>\n",
       "      <th>12895</th>\n",
       "      <td>2024-03-25</td>\n",
       "      <td>32</td>\n",
       "      <td>7121.950</td>\n",
       "      <td>355.818726</td>\n",
       "      <td>6766.131274</td>\n",
       "    </tr>\n",
       "    <tr>\n",
       "      <th>12896</th>\n",
       "      <td>2024-03-25</td>\n",
       "      <td>33</td>\n",
       "      <td>7117.993</td>\n",
       "      <td>355.818726</td>\n",
       "      <td>6762.174274</td>\n",
       "    </tr>\n",
       "  </tbody>\n",
       "</table>\n",
       "<p>96 rows × 5 columns</p>\n",
       "</div>"
      ],
      "text/plain": [
       "             Date  Period  Total Demand         TCQ   Net Demand\n",
       "12801  2024-03-23      34      6491.688  415.350538  6076.337462\n",
       "12802  2024-03-23      35      6492.116  415.350538  6076.765462\n",
       "12803  2024-03-23      36      6544.045  415.350538  6128.694462\n",
       "12804  2024-03-23      37      6628.170  415.350538  6212.819462\n",
       "12805  2024-03-23      38      6731.825  415.350538  6316.474462\n",
       "...           ...     ...           ...         ...          ...\n",
       "12892  2024-03-25      29      6979.539  355.818726  6623.720274\n",
       "12893  2024-03-25      30      7042.605  355.818726  6686.786274\n",
       "12894  2024-03-25      31      7067.406  355.818726  6711.587274\n",
       "12895  2024-03-25      32      7121.950  355.818726  6766.131274\n",
       "12896  2024-03-25      33      7117.993  355.818726  6762.174274\n",
       "\n",
       "[96 rows x 5 columns]"
      ]
     },
     "execution_count": 6,
     "metadata": {},
     "output_type": "execute_result"
    }
   ],
   "source": [
    "view['TCQ'] = view.apply(lambda row: find_tcq(row), axis=1)\n",
    "view['Net Demand'] = view['Total Demand'] - view['TCQ']\n",
    "view.tail(96)"
   ]
  },
  {
   "cell_type": "code",
   "execution_count": 7,
   "metadata": {},
   "outputs": [],
   "source": [
    "view.to_csv('./data/NET.csv', index=False)"
   ]
  },
  {
   "cell_type": "code",
   "execution_count": 8,
   "metadata": {},
   "outputs": [
    {
     "data": {
      "text/html": [
       "<div>\n",
       "<style scoped>\n",
       "    .dataframe tbody tr th:only-of-type {\n",
       "        vertical-align: middle;\n",
       "    }\n",
       "\n",
       "    .dataframe tbody tr th {\n",
       "        vertical-align: top;\n",
       "    }\n",
       "\n",
       "    .dataframe thead th {\n",
       "        text-align: right;\n",
       "    }\n",
       "</style>\n",
       "<table border=\"1\" class=\"dataframe\">\n",
       "  <thead>\n",
       "    <tr style=\"text-align: right;\">\n",
       "      <th></th>\n",
       "      <th>Date</th>\n",
       "      <th>Period</th>\n",
       "      <th>Total Demand</th>\n",
       "      <th>TCQ</th>\n",
       "      <th>Net Demand</th>\n",
       "    </tr>\n",
       "  </thead>\n",
       "  <tbody>\n",
       "    <tr>\n",
       "      <th>12896</th>\n",
       "      <td>2024-03-25</td>\n",
       "      <td>33</td>\n",
       "      <td>7117.993</td>\n",
       "      <td>355.818726</td>\n",
       "      <td>6762.174274</td>\n",
       "    </tr>\n",
       "  </tbody>\n",
       "</table>\n",
       "</div>"
      ],
      "text/plain": [
       "             Date  Period  Total Demand         TCQ   Net Demand\n",
       "12896  2024-03-25      33      7117.993  355.818726  6762.174274"
      ]
     },
     "execution_count": 8,
     "metadata": {},
     "output_type": "execute_result"
    }
   ],
   "source": [
    "view.tail(1)"
   ]
  },
  {
   "cell_type": "code",
   "execution_count": null,
   "metadata": {},
   "outputs": [],
   "source": []
  }
 ],
 "metadata": {
  "kernelspec": {
   "display_name": "sp-tf",
   "language": "python",
   "name": "python3"
  },
  "language_info": {
   "codemirror_mode": {
    "name": "ipython",
    "version": 3
   },
   "file_extension": ".py",
   "mimetype": "text/x-python",
   "name": "python",
   "nbconvert_exporter": "python",
   "pygments_lexer": "ipython3",
   "version": "3.11.8"
  }
 },
 "nbformat": 4,
 "nbformat_minor": 2
}
