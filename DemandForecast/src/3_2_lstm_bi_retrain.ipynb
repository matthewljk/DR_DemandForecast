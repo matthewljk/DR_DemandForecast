{
 "cells": [
  {
   "cell_type": "markdown",
   "metadata": {},
   "source": [
    "# Bi-LSTM Model Retrain"
   ]
  },
  {
   "cell_type": "markdown",
   "metadata": {},
   "source": [
    "## Load Up-to-date Data from DB"
   ]
  },
  {
   "cell_type": "code",
   "execution_count": 7,
   "metadata": {},
   "outputs": [],
   "source": [
    "import os\n",
    "\n",
    "import pandas as pd\n",
    "\n",
    "from os.path import join\n",
    "from dotenv import load_dotenv\n",
    "from sqlalchemy import create_engine, text"
   ]
  },
  {
   "cell_type": "code",
   "execution_count": 34,
   "metadata": {},
   "outputs": [],
   "source": [
    "ROOT = '/home/sdc/DR_DemandForecast/DemandForecast/'"
   ]
  },
  {
   "cell_type": "code",
   "execution_count": 30,
   "metadata": {},
   "outputs": [],
   "source": [
    "def db_conn():\n",
    "    # Load the environment variables from the .env file\n",
    "    env_file = join(ROOT, 'src', '.env')\n",
    "    load_dotenv(env_file)\n",
    "\n",
    "    # Get the values of host, user, pswd, db, and schema from the environment variables\n",
    "    DBHOST = os.getenv('host')\n",
    "    DBUSER = os.getenv('user')\n",
    "    DBPSWD = os.getenv('pswd')\n",
    "    DBNAME = os.getenv('db')\n",
    "    SCHEMA = 'public'\n",
    "\n",
    "    # Use the values as needed\n",
    "    engine = create_engine(f\"postgresql://{DBUSER}:{DBPSWD}@{DBHOST}/{DBNAME}?options=-csearch_path%3D{SCHEMA}\", echo=False)\n",
    "    conn = engine.connect()\n",
    "    \n",
    "    return conn"
   ]
  },
  {
   "cell_type": "code",
   "execution_count": 27,
   "metadata": {},
   "outputs": [],
   "source": [
    "def get_dpr(\n",
    "    limit: int=None\n",
    "):\n",
    "    select_query = \"\"\"SELECT \"Date\", \"Period\", \"Demand\", \"TCL\", \"TransmissionLoss\", \"Solar\"\n",
    "    FROM public.\"RealTimeDPR\"\n",
    "    ORDER BY \"Date\" DESC, \"Period\" DESC\n",
    "\"\"\"\n",
    "    if limit:\n",
    "        select_query += f\"    LIMIT {limit}\\n;\"\n",
    "    else:\n",
    "        select_query += \";\"\n",
    "        \n",
    "    # print(select_query)\n",
    "    \n",
    "    dpr = pd.read_sql(select_query, conn)\n",
    "    \n",
    "    dpr.fillna(0, inplace=True)\n",
    "    \n",
    "    dpr[\"TotalDemand\"] = dpr[\"Demand\"] + dpr[\"TCL\"] + dpr[\"TransmissionLoss\"] + dpr[\"Solar\"]\n",
    "    \n",
    "    return dpr"
   ]
  },
  {
   "cell_type": "markdown",
   "metadata": {},
   "source": [
    "## Load and Retrain Model"
   ]
  },
  {
   "cell_type": "code",
   "execution_count": 31,
   "metadata": {},
   "outputs": [],
   "source": [
    "import tensorflow as tf\n",
    "import keras as tk\n",
    "\n",
    "import glob"
   ]
  },
  {
   "cell_type": "code",
   "execution_count": 38,
   "metadata": {},
   "outputs": [],
   "source": [
    "if __name__ == \"__main__\":\n",
    "    conn = db_conn()\n",
    "    dpr = get_dpr(limit=336)\n",
    "    "
   ]
  },
  {
   "cell_type": "code",
   "execution_count": 41,
   "metadata": {},
   "outputs": [
    {
     "data": {
      "text/html": [
       "<div>\n",
       "<style scoped>\n",
       "    .dataframe tbody tr th:only-of-type {\n",
       "        vertical-align: middle;\n",
       "    }\n",
       "\n",
       "    .dataframe tbody tr th {\n",
       "        vertical-align: top;\n",
       "    }\n",
       "\n",
       "    .dataframe thead th {\n",
       "        text-align: right;\n",
       "    }\n",
       "</style>\n",
       "<table border=\"1\" class=\"dataframe\">\n",
       "  <thead>\n",
       "    <tr style=\"text-align: right;\">\n",
       "      <th></th>\n",
       "      <th>Date</th>\n",
       "      <th>Period</th>\n",
       "      <th>Demand</th>\n",
       "      <th>TCL</th>\n",
       "      <th>TransmissionLoss</th>\n",
       "      <th>Solar</th>\n",
       "      <th>TotalDemand</th>\n",
       "    </tr>\n",
       "  </thead>\n",
       "  <tbody>\n",
       "    <tr>\n",
       "      <th>331</th>\n",
       "      <td>2024-04-22</td>\n",
       "      <td>47</td>\n",
       "      <td>6595.757</td>\n",
       "      <td>0.0</td>\n",
       "      <td>0.0</td>\n",
       "      <td>0.0</td>\n",
       "      <td>6595.757</td>\n",
       "    </tr>\n",
       "    <tr>\n",
       "      <th>332</th>\n",
       "      <td>2024-04-22</td>\n",
       "      <td>46</td>\n",
       "      <td>6752.356</td>\n",
       "      <td>0.0</td>\n",
       "      <td>0.0</td>\n",
       "      <td>0.0</td>\n",
       "      <td>6752.356</td>\n",
       "    </tr>\n",
       "    <tr>\n",
       "      <th>333</th>\n",
       "      <td>2024-04-22</td>\n",
       "      <td>45</td>\n",
       "      <td>6896.889</td>\n",
       "      <td>0.0</td>\n",
       "      <td>0.0</td>\n",
       "      <td>0.0</td>\n",
       "      <td>6896.889</td>\n",
       "    </tr>\n",
       "    <tr>\n",
       "      <th>334</th>\n",
       "      <td>2024-04-22</td>\n",
       "      <td>44</td>\n",
       "      <td>7062.196</td>\n",
       "      <td>0.0</td>\n",
       "      <td>0.0</td>\n",
       "      <td>0.0</td>\n",
       "      <td>7062.196</td>\n",
       "    </tr>\n",
       "    <tr>\n",
       "      <th>335</th>\n",
       "      <td>2024-04-22</td>\n",
       "      <td>43</td>\n",
       "      <td>7196.396</td>\n",
       "      <td>0.0</td>\n",
       "      <td>0.0</td>\n",
       "      <td>0.0</td>\n",
       "      <td>7196.396</td>\n",
       "    </tr>\n",
       "  </tbody>\n",
       "</table>\n",
       "</div>"
      ],
      "text/plain": [
       "           Date  Period    Demand  TCL  TransmissionLoss  Solar  TotalDemand\n",
       "331  2024-04-22      47  6595.757  0.0               0.0    0.0     6595.757\n",
       "332  2024-04-22      46  6752.356  0.0               0.0    0.0     6752.356\n",
       "333  2024-04-22      45  6896.889  0.0               0.0    0.0     6896.889\n",
       "334  2024-04-22      44  7062.196  0.0               0.0    0.0     7062.196\n",
       "335  2024-04-22      43  7196.396  0.0               0.0    0.0     7196.396"
      ]
     },
     "execution_count": 41,
     "metadata": {},
     "output_type": "execute_result"
    }
   ],
   "source": [
    "dpr.tail(5)"
   ]
  },
  {
   "cell_type": "code",
   "execution_count": null,
   "metadata": {},
   "outputs": [],
   "source": [
    "# Get a list of all model files in the directory\n",
    "newest = max(glob.glob(os.path.join(ROOT, 'model', '*/')), key=os.path.getmtime)\n",
    "model_files = glob.glob(os.path.join(newest, \"*.keras\"))\n",
    "\n",
    "# Sort the list of model files by modification time (most recent first)\n",
    "model_files.sort(key=os.path.getmtime, reverse=True)\n",
    "\n",
    "# Select the most recent model file\n",
    "most_recent_model_file = model_files[0]\n",
    "\n",
    "# Load the selected model\n",
    "model = tk.models.load_model(most_recent_model_file, )\n",
    "\n"
   ]
  },
  {
   "cell_type": "code",
   "execution_count": null,
   "metadata": {},
   "outputs": [],
   "source": [
    "conn.close()"
   ]
  }
 ],
 "metadata": {
  "kernelspec": {
   "display_name": "sp-tf-cpu",
   "language": "python",
   "name": "python3"
  },
  "language_info": {
   "codemirror_mode": {
    "name": "ipython",
    "version": 3
   },
   "file_extension": ".py",
   "mimetype": "text/x-python",
   "name": "python",
   "nbconvert_exporter": "python",
   "pygments_lexer": "ipython3",
   "version": "3.11.8"
  }
 },
 "nbformat": 4,
 "nbformat_minor": 2
}
