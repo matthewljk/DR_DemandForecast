{
 "cells": [
  {
   "cell_type": "markdown",
   "metadata": {},
   "source": [
    "# Forecast Net Demand"
   ]
  },
  {
   "cell_type": "code",
   "execution_count": 1,
   "metadata": {},
   "outputs": [],
   "source": [
    "import pandas as pd\n",
    "from sqlalchemy import create_engine\n",
    "import os\n",
    "from dotenv import load_dotenv\n",
    "\n",
    "# Load the environment variables from the .env file\n",
    "load_dotenv('.env')\n",
    "\n",
    "# Get the values of host, user, pswd, db, and schema from the environment variables\n",
    "host = os.getenv('host')\n",
    "user = os.getenv('user')\n",
    "pswd = os.getenv('pswd')\n",
    "db = os.getenv('db')\n",
    "schema = os.getenv('schema')\n",
    "\n",
    "\n",
    "# Use the values as needed\n",
    "engine = create_engine(\n",
    "    f\"postgresql://{user}:{pswd}@{host}/{db}?options=-csearch_path%3D{schema}\", echo=False)\n",
    "conn = engine.connect()"
   ]
  },
  {
   "cell_type": "markdown",
   "metadata": {},
   "source": [
    "## Import data from CSV to PostgreSQL\n",
    "\n",
    "This step is used for testing purposes.\n",
    "\n",
    "Set `IMPORT_DATA` to `False` to skip this step."
   ]
  },
  {
   "cell_type": "code",
   "execution_count": 2,
   "metadata": {},
   "outputs": [],
   "source": [
    "IMPORT_DATA = False"
   ]
  },
  {
   "cell_type": "code",
   "execution_count": 3,
   "metadata": {},
   "outputs": [],
   "source": [
    "import pandas as pd\n",
    "import datetime as dt\n",
    "\n",
    "if IMPORT_DATA:\n",
    "    \n",
    "    # Load and filer data from csv file\n",
    "    \n",
    "    rt_dpr = pd.read_csv('./data/RT_DPR.csv')\n",
    "    rt_dpr = rt_dpr[['Date', 'Period', 'Demand', 'TCL', 'Transmission_Loss']]\n",
    "    rt_dpr['Transmission_Loss'] = rt_dpr['Transmission_Loss'].fillna(0)\n",
    "    rt_dpr = rt_dpr[rt_dpr['Date'] > '2023-06-30']\n",
    "    rt_dpr = rt_dpr.sort_values(by=['Date', 'Period'])\n",
    "    rt_dpr.reset_index(drop=True, inplace=True)\n",
    "    \n",
    "    vc_per = pd.read_csv('./data/VCData_Period.csv')\n",
    "    \n",
    "    # !!! The Real_Time_DPR table here is different from the one Matthew uses. Don't replace.\n",
    "    # rt_dpr.to_sql('Real_Time_DPR', conn, if_exists='replace', index=False)\n",
    "    vc_per.to_sql('VCData_Period', conn, if_exists='replace', index=False)"
   ]
  },
  {
   "cell_type": "markdown",
   "metadata": {},
   "source": [
    "## Data from DB"
   ]
  },
  {
   "cell_type": "code",
   "execution_count": 4,
   "metadata": {},
   "outputs": [
    {
     "name": "stdout",
     "output_type": "stream",
     "text": [
      "Now is 2024-03-26 16:34 Period 34\n",
      "To predict: 2024-03-26 Period 35\n"
     ]
    }
   ],
   "source": [
    "import datetime as dt\n",
    "\n",
    "now = dt.datetime.now()\n",
    "date = now.strftime(\"%Y-%m-%d\")\n",
    "time = now.strftime(\"%H:%M\")\n",
    "\n",
    "period = int(now.strftime(\"%H\")) * 2 + int(now.strftime(\"%M\")) // 30 + 1\n",
    "\n",
    "\n",
    "if period + 1 > 48:\n",
    "    next_period = 1\n",
    "    next_date = now + dt.timedelta(days=1)\n",
    "    next_date = next_date.strftime(\"%Y-%m-%d\")\n",
    "else:\n",
    "    next_period = period + 1\n",
    "    next_date = date\n",
    "\n",
    "# next_date = '2024-03-25' # A hard-coded value for testing\n",
    "# next_period = 33 # A hard-coded value for testing\n",
    "print(f\"Now is {date} {time} Period {period}\")\n",
    "print(f\"To predict: {next_date} Period {next_period}\")"
   ]
  },
  {
   "cell_type": "code",
   "execution_count": 5,
   "metadata": {},
   "outputs": [
    {
     "data": {
      "text/html": [
       "<div>\n",
       "<style scoped>\n",
       "    .dataframe tbody tr th:only-of-type {\n",
       "        vertical-align: middle;\n",
       "    }\n",
       "\n",
       "    .dataframe tbody tr th {\n",
       "        vertical-align: top;\n",
       "    }\n",
       "\n",
       "    .dataframe thead th {\n",
       "        text-align: right;\n",
       "    }\n",
       "</style>\n",
       "<table border=\"1\" class=\"dataframe\">\n",
       "  <thead>\n",
       "    <tr style=\"text-align: right;\">\n",
       "      <th></th>\n",
       "      <th>Date</th>\n",
       "      <th>Period</th>\n",
       "      <th>Demand</th>\n",
       "      <th>TCL</th>\n",
       "      <th>Transmission_Loss</th>\n",
       "    </tr>\n",
       "  </thead>\n",
       "  <tbody>\n",
       "    <tr>\n",
       "      <th>0</th>\n",
       "      <td>2024-03-19</td>\n",
       "      <td>35</td>\n",
       "      <td>7203.81</td>\n",
       "      <td>11.0</td>\n",
       "      <td>37.122</td>\n",
       "    </tr>\n",
       "    <tr>\n",
       "      <th>1</th>\n",
       "      <td>2024-03-19</td>\n",
       "      <td>36</td>\n",
       "      <td>7088.09</td>\n",
       "      <td>0.0</td>\n",
       "      <td>36.877</td>\n",
       "    </tr>\n",
       "  </tbody>\n",
       "</table>\n",
       "</div>"
      ],
      "text/plain": [
       "         Date  Period   Demand   TCL  Transmission_Loss\n",
       "0  2024-03-19      35  7203.81  11.0             37.122\n",
       "1  2024-03-19      36  7088.09   0.0             36.877"
      ]
     },
     "execution_count": 5,
     "metadata": {},
     "output_type": "execute_result"
    }
   ],
   "source": [
    "rt_dpr = pd.read_sql(f\"\"\"\n",
    "                     SELECT \"Date\", \"Period\", \"Demand\", \"TCL\", \"Transmission_Loss\"\n",
    "\t                 FROM public.\"Real_Time_DPR\"\n",
    "                     WHERE (\"Date\" < '{date}' OR (\"Date\" = '{date}' AND \"Period\" < {next_period}))\n",
    "                     ORDER BY \"Date\" DESC, \"Period\" DESC  \n",
    "                     LIMIT 336\n",
    "                     \"\"\", conn)\n",
    "rt_dpr.sort_values(by=['Date', 'Period'], inplace=True)\n",
    "rt_dpr.reset_index(drop=True, inplace=True)\n",
    "rt_dpr.head(2)"
   ]
  },
  {
   "cell_type": "code",
   "execution_count": 6,
   "metadata": {},
   "outputs": [
    {
     "data": {
      "text/html": [
       "<div>\n",
       "<style scoped>\n",
       "    .dataframe tbody tr th:only-of-type {\n",
       "        vertical-align: middle;\n",
       "    }\n",
       "\n",
       "    .dataframe tbody tr th {\n",
       "        vertical-align: top;\n",
       "    }\n",
       "\n",
       "    .dataframe thead th {\n",
       "        text-align: right;\n",
       "    }\n",
       "</style>\n",
       "<table border=\"1\" class=\"dataframe\">\n",
       "  <thead>\n",
       "    <tr style=\"text-align: right;\">\n",
       "      <th></th>\n",
       "      <th>Date</th>\n",
       "      <th>Period</th>\n",
       "      <th>Demand</th>\n",
       "      <th>TCL</th>\n",
       "      <th>Transmission_Loss</th>\n",
       "    </tr>\n",
       "  </thead>\n",
       "  <tbody>\n",
       "    <tr>\n",
       "      <th>334</th>\n",
       "      <td>2024-03-26</td>\n",
       "      <td>33</td>\n",
       "      <td>7116.707</td>\n",
       "      <td>0.0</td>\n",
       "      <td>38.499</td>\n",
       "    </tr>\n",
       "    <tr>\n",
       "      <th>335</th>\n",
       "      <td>2024-03-26</td>\n",
       "      <td>34</td>\n",
       "      <td>7138.118</td>\n",
       "      <td>0.0</td>\n",
       "      <td>38.902</td>\n",
       "    </tr>\n",
       "  </tbody>\n",
       "</table>\n",
       "</div>"
      ],
      "text/plain": [
       "           Date  Period    Demand  TCL  Transmission_Loss\n",
       "334  2024-03-26      33  7116.707  0.0             38.499\n",
       "335  2024-03-26      34  7138.118  0.0             38.902"
      ]
     },
     "execution_count": 6,
     "metadata": {},
     "output_type": "execute_result"
    }
   ],
   "source": [
    "rt_dpr.tail(2)"
   ]
  },
  {
   "cell_type": "code",
   "execution_count": 7,
   "metadata": {},
   "outputs": [
    {
     "data": {
      "text/html": [
       "<div>\n",
       "<style scoped>\n",
       "    .dataframe tbody tr th:only-of-type {\n",
       "        vertical-align: middle;\n",
       "    }\n",
       "\n",
       "    .dataframe tbody tr th {\n",
       "        vertical-align: top;\n",
       "    }\n",
       "\n",
       "    .dataframe thead th {\n",
       "        text-align: right;\n",
       "    }\n",
       "</style>\n",
       "<table border=\"1\" class=\"dataframe\">\n",
       "  <thead>\n",
       "    <tr style=\"text-align: right;\">\n",
       "      <th></th>\n",
       "      <th>Year</th>\n",
       "      <th>Quarter</th>\n",
       "      <th>Period</th>\n",
       "      <th>TCQ_Weekday</th>\n",
       "      <th>TCQ_Weekend_PH</th>\n",
       "    </tr>\n",
       "  </thead>\n",
       "  <tbody>\n",
       "    <tr>\n",
       "      <th>0</th>\n",
       "      <td>2023</td>\n",
       "      <td>3</td>\n",
       "      <td>1</td>\n",
       "      <td>457184.607704</td>\n",
       "      <td>486146.668221</td>\n",
       "    </tr>\n",
       "    <tr>\n",
       "      <th>1</th>\n",
       "      <td>2023</td>\n",
       "      <td>3</td>\n",
       "      <td>2</td>\n",
       "      <td>431743.883051</td>\n",
       "      <td>465108.391557</td>\n",
       "    </tr>\n",
       "    <tr>\n",
       "      <th>2</th>\n",
       "      <td>2023</td>\n",
       "      <td>3</td>\n",
       "      <td>3</td>\n",
       "      <td>415236.248998</td>\n",
       "      <td>448268.380324</td>\n",
       "    </tr>\n",
       "    <tr>\n",
       "      <th>3</th>\n",
       "      <td>2023</td>\n",
       "      <td>3</td>\n",
       "      <td>4</td>\n",
       "      <td>403405.811743</td>\n",
       "      <td>434353.333280</td>\n",
       "    </tr>\n",
       "    <tr>\n",
       "      <th>4</th>\n",
       "      <td>2023</td>\n",
       "      <td>3</td>\n",
       "      <td>5</td>\n",
       "      <td>394503.297641</td>\n",
       "      <td>422426.659436</td>\n",
       "    </tr>\n",
       "    <tr>\n",
       "      <th>...</th>\n",
       "      <td>...</td>\n",
       "      <td>...</td>\n",
       "      <td>...</td>\n",
       "      <td>...</td>\n",
       "      <td>...</td>\n",
       "    </tr>\n",
       "    <tr>\n",
       "      <th>187</th>\n",
       "      <td>2024</td>\n",
       "      <td>2</td>\n",
       "      <td>44</td>\n",
       "      <td>521795.957581</td>\n",
       "      <td>511745.260075</td>\n",
       "    </tr>\n",
       "    <tr>\n",
       "      <th>188</th>\n",
       "      <td>2024</td>\n",
       "      <td>2</td>\n",
       "      <td>45</td>\n",
       "      <td>509037.825497</td>\n",
       "      <td>503120.417756</td>\n",
       "    </tr>\n",
       "    <tr>\n",
       "      <th>189</th>\n",
       "      <td>2024</td>\n",
       "      <td>2</td>\n",
       "      <td>46</td>\n",
       "      <td>492624.774907</td>\n",
       "      <td>490075.053877</td>\n",
       "    </tr>\n",
       "    <tr>\n",
       "      <th>190</th>\n",
       "      <td>2024</td>\n",
       "      <td>2</td>\n",
       "      <td>47</td>\n",
       "      <td>471344.391703</td>\n",
       "      <td>474155.106133</td>\n",
       "    </tr>\n",
       "    <tr>\n",
       "      <th>191</th>\n",
       "      <td>2024</td>\n",
       "      <td>2</td>\n",
       "      <td>48</td>\n",
       "      <td>437836.736105</td>\n",
       "      <td>448734.605604</td>\n",
       "    </tr>\n",
       "  </tbody>\n",
       "</table>\n",
       "<p>192 rows × 5 columns</p>\n",
       "</div>"
      ],
      "text/plain": [
       "     Year  Quarter  Period    TCQ_Weekday  TCQ_Weekend_PH\n",
       "0    2023        3       1  457184.607704   486146.668221\n",
       "1    2023        3       2  431743.883051   465108.391557\n",
       "2    2023        3       3  415236.248998   448268.380324\n",
       "3    2023        3       4  403405.811743   434353.333280\n",
       "4    2023        3       5  394503.297641   422426.659436\n",
       "..    ...      ...     ...            ...             ...\n",
       "187  2024        2      44  521795.957581   511745.260075\n",
       "188  2024        2      45  509037.825497   503120.417756\n",
       "189  2024        2      46  492624.774907   490075.053877\n",
       "190  2024        2      47  471344.391703   474155.106133\n",
       "191  2024        2      48  437836.736105   448734.605604\n",
       "\n",
       "[192 rows x 5 columns]"
      ]
     },
     "execution_count": 7,
     "metadata": {},
     "output_type": "execute_result"
    }
   ],
   "source": [
    "vc_per = pd.read_sql('SELECT * FROM public.\"VCData_Period\"', conn)\n",
    "vc_per"
   ]
  },
  {
   "cell_type": "code",
   "execution_count": 12,
   "metadata": {},
   "outputs": [
    {
     "data": {
      "text/plain": [
       "array([355818.7257016 , 357142.41829544, 341690.20316031, 335844.76203262,\n",
       "       329430.3107078 , 348038.45509215, 320351.36985643, 357264.25035328,\n",
       "       350714.82426238, 325854.36562452, 342973.11435316, 334723.85096751,\n",
       "       410146.20395788, 384326.09265607, 416354.8531033 , 421831.70017212,\n",
       "       431490.49144217, 441064.89190246, 453713.71262424, 461585.63594439,\n",
       "       472177.88088323, 476815.73361418, 480049.71048044, 480193.0664062 ,\n",
       "       476069.10992465, 473187.7455232 , 475633.71332899, 478328.11386127,\n",
       "       485156.61973021, 484623.77805866, 485591.815491  , 488310.78482161,\n",
       "       494884.29735853, 499796.9055721 , 505555.91223553, 508903.72230257,\n",
       "       526114.23661216, 517712.0850365 , 532676.17023474, 523850.65876626,\n",
       "       514780.43705941, 539775.95044866, 532980.85011206, 522670.88887747,\n",
       "       492108.97376514, 488650.25360335, 435305.89862802, 394272.55105063])"
      ]
     },
     "execution_count": 12,
     "metadata": {},
     "output_type": "execute_result"
    }
   ],
   "source": [
    "vc_per[(vc_per['Year'] == 2024) & (\n",
    "    vc_per['Quarter'] == 1)]['TCQ_Weekday'].values"
   ]
  },
  {
   "cell_type": "code",
   "execution_count": 15,
   "metadata": {},
   "outputs": [],
   "source": [
    "import holidays\n",
    "\n",
    "# Calculate required data fields\n",
    "\n",
    "sg_holidays = holidays.country_holidays('SG')\n",
    "\n",
    "rt_dpr['Total Demand'] = rt_dpr['Demand'] + rt_dpr['TCL'] + rt_dpr['Transmission_Loss']\n",
    "view = rt_dpr[['Date', 'Period', 'Total Demand']].copy()\n",
    "\n",
    "def find_tcq(row):\n",
    "    # print(row)\n",
    "    date_obj = dt.datetime.strptime(str(row['Date']), '%Y-%m-%d')\n",
    "    year = date_obj.year\n",
    "    quarter = (date_obj.month - 1) // 3 + 1\n",
    "    \n",
    "    period = row['Period']\n",
    "    \n",
    "    isWeekend = 1 if date_obj.isoweekday() > 5 else 0\n",
    "    isPublicHoliday = date_obj in sg_holidays\n",
    "    \n",
    "    if isWeekend or isPublicHoliday:\n",
    "        # print(f\"Date: {date_obj} isWeekend: {isWeekend} isPublicHoliday: {isPublicHoliday}\")\n",
    "        tcq = vc_per[(vc_per['Year'] == year) & (vc_per['Quarter'] == quarter) & (vc_per['Period'] == period)]['TCQ_Weekday'].values[0] / 1000\n",
    "    else:\n",
    "        tcq = vc_per[(vc_per['Year'] == year) & (vc_per['Quarter'] == quarter) & (vc_per['Period'] == period)]['TCQ_Weekend_PH'].values[0] / 1000\n",
    "\n",
    "    # print(f\"Date: {date_obj} TCQ: {tcq}\")\n",
    "    return tcq\n",
    "\n",
    "view['TCQ'] = view.apply(lambda row: find_tcq(row), axis=1)\n",
    "view['Net Demand'] = view['Total Demand'] - view['TCQ']\n",
    "view.reset_index(drop=True, inplace=True)\n",
    "# view.head(2)"
   ]
  },
  {
   "cell_type": "code",
   "execution_count": 17,
   "metadata": {},
   "outputs": [
    {
     "data": {
      "text/plain": [
       "'./model/20240326_1239/'"
      ]
     },
     "execution_count": 17,
     "metadata": {},
     "output_type": "execute_result"
    }
   ],
   "source": [
    "import numpy as np\n",
    "from sklearn.preprocessing import StandardScaler\n",
    "import joblib\n",
    "import os\n",
    "import glob\n",
    "\n",
    "# Load the most recent scaler file\n",
    "resDir = './model'\n",
    "newestDir = max(glob.glob(os.path.join(resDir, '*/')), key=os.path.getmtime)\n",
    "newestDir"
   ]
  },
  {
   "cell_type": "code",
   "execution_count": 18,
   "metadata": {},
   "outputs": [
    {
     "name": "stdout",
     "output_type": "stream",
     "text": [
      "Scaler files: ['./model/20240326_1239/robustScaler.pkl']\n",
      "Loaded scaler: ./model/20240326_1239/robustScaler.pkl\n",
      "Predict_X shape: (1, 336, 1)\n"
     ]
    }
   ],
   "source": [
    "scaler_files = glob.glob(os.path.join(newestDir, \"*.pkl\"))\n",
    "print(\"Scaler files:\", scaler_files)\n",
    "scaler = joblib.load(scaler_files[0])\n",
    "print(\"Loaded scaler:\", scaler_files[0])\n",
    "\n",
    "# Perform data preprocessing as before\n",
    "data = view.copy()\n",
    "data['Target'] = data['Net Demand']\n",
    "data['Target'] = scaler.fit_transform(data['Target'].values.reshape(-1,1))\n",
    "\n",
    "# Create dataset for prediction\n",
    "def create_dataset(dataset):\n",
    "    return np.array([dataset])\n",
    "\n",
    "predict_X = create_dataset(data['Target'].values)\n",
    "\n",
    "# Reshape input to be [samples, time steps, features]\n",
    "predict_X = np.reshape(predict_X, (predict_X.shape[0], predict_X.shape[1], 1))\n",
    "print(f\"Predict_X shape: {predict_X.shape}\")"
   ]
  },
  {
   "cell_type": "markdown",
   "metadata": {},
   "source": [
    "## Predict using trained model"
   ]
  },
  {
   "cell_type": "code",
   "execution_count": 19,
   "metadata": {},
   "outputs": [
    {
     "name": "stderr",
     "output_type": "stream",
     "text": [
      "2024-03-26 16:36:39.145608: E external/local_xla/xla/stream_executor/cuda/cuda_dnn.cc:9261] Unable to register cuDNN factory: Attempting to register factory for plugin cuDNN when one has already been registered\n",
      "2024-03-26 16:36:39.145636: E external/local_xla/xla/stream_executor/cuda/cuda_fft.cc:607] Unable to register cuFFT factory: Attempting to register factory for plugin cuFFT when one has already been registered\n",
      "2024-03-26 16:36:39.146602: E external/local_xla/xla/stream_executor/cuda/cuda_blas.cc:1515] Unable to register cuBLAS factory: Attempting to register factory for plugin cuBLAS when one has already been registered\n",
      "2024-03-26 16:36:39.152213: I tensorflow/core/platform/cpu_feature_guard.cc:182] This TensorFlow binary is optimized to use available CPU instructions in performance-critical operations.\n",
      "To enable the following instructions: AVX2 FMA, in other operations, rebuild TensorFlow with the appropriate compiler flags.\n",
      "2024-03-26 16:36:39.740768: W tensorflow/compiler/tf2tensorrt/utils/py_utils.cc:38] TF-TRT Warning: Could not find TensorRT\n"
     ]
    },
    {
     "name": "stdout",
     "output_type": "stream",
     "text": [
      "Num GPUs Available:  1\n"
     ]
    },
    {
     "name": "stderr",
     "output_type": "stream",
     "text": [
      "2024-03-26 16:36:40.218392: I external/local_xla/xla/stream_executor/cuda/cuda_executor.cc:901] successful NUMA node read from SysFS had negative value (-1), but there must be at least one NUMA node, so returning NUMA node zero. See more at https://github.com/torvalds/linux/blob/v6.0/Documentation/ABI/testing/sysfs-bus-pci#L344-L355\n",
      "2024-03-26 16:36:40.254970: I external/local_xla/xla/stream_executor/cuda/cuda_executor.cc:901] successful NUMA node read from SysFS had negative value (-1), but there must be at least one NUMA node, so returning NUMA node zero. See more at https://github.com/torvalds/linux/blob/v6.0/Documentation/ABI/testing/sysfs-bus-pci#L344-L355\n",
      "2024-03-26 16:36:40.255232: I external/local_xla/xla/stream_executor/cuda/cuda_executor.cc:901] successful NUMA node read from SysFS had negative value (-1), but there must be at least one NUMA node, so returning NUMA node zero. See more at https://github.com/torvalds/linux/blob/v6.0/Documentation/ABI/testing/sysfs-bus-pci#L344-L355\n"
     ]
    }
   ],
   "source": [
    "import tensorflow as tf\n",
    "\n",
    "os.environ['TF_CPP_MIN_LOG_LEVEL'] = '3' \n",
    "tf.keras.utils.disable_interactive_logging()\n",
    "\n",
    "print(\"Num GPUs Available: \", len(tf.config.experimental.list_physical_devices('GPU')))"
   ]
  },
  {
   "cell_type": "code",
   "execution_count": 20,
   "metadata": {},
   "outputs": [
    {
     "name": "stderr",
     "output_type": "stream",
     "text": [
      "2024-03-26 16:36:41.331654: I external/local_xla/xla/stream_executor/cuda/cuda_executor.cc:901] successful NUMA node read from SysFS had negative value (-1), but there must be at least one NUMA node, so returning NUMA node zero. See more at https://github.com/torvalds/linux/blob/v6.0/Documentation/ABI/testing/sysfs-bus-pci#L344-L355\n",
      "2024-03-26 16:36:41.332009: I external/local_xla/xla/stream_executor/cuda/cuda_executor.cc:901] successful NUMA node read from SysFS had negative value (-1), but there must be at least one NUMA node, so returning NUMA node zero. See more at https://github.com/torvalds/linux/blob/v6.0/Documentation/ABI/testing/sysfs-bus-pci#L344-L355\n",
      "2024-03-26 16:36:41.332170: I external/local_xla/xla/stream_executor/cuda/cuda_executor.cc:901] successful NUMA node read from SysFS had negative value (-1), but there must be at least one NUMA node, so returning NUMA node zero. See more at https://github.com/torvalds/linux/blob/v6.0/Documentation/ABI/testing/sysfs-bus-pci#L344-L355\n",
      "2024-03-26 16:36:41.399442: I external/local_xla/xla/stream_executor/cuda/cuda_executor.cc:901] successful NUMA node read from SysFS had negative value (-1), but there must be at least one NUMA node, so returning NUMA node zero. See more at https://github.com/torvalds/linux/blob/v6.0/Documentation/ABI/testing/sysfs-bus-pci#L344-L355\n",
      "2024-03-26 16:36:41.399644: I external/local_xla/xla/stream_executor/cuda/cuda_executor.cc:901] successful NUMA node read from SysFS had negative value (-1), but there must be at least one NUMA node, so returning NUMA node zero. See more at https://github.com/torvalds/linux/blob/v6.0/Documentation/ABI/testing/sysfs-bus-pci#L344-L355\n",
      "2024-03-26 16:36:41.399819: I external/local_xla/xla/stream_executor/cuda/cuda_executor.cc:901] successful NUMA node read from SysFS had negative value (-1), but there must be at least one NUMA node, so returning NUMA node zero. See more at https://github.com/torvalds/linux/blob/v6.0/Documentation/ABI/testing/sysfs-bus-pci#L344-L355\n",
      "2024-03-26 16:36:41.399998: I tensorflow/core/common_runtime/gpu/gpu_device.cc:1929] Created device /job:localhost/replica:0/task:0/device:GPU:0 with 2791 MB memory:  -> device: 0, name: NVIDIA GeForce GTX 1650, pci bus id: 0000:01:00.0, compute capability: 7.5\n",
      "2024-03-26 16:36:41.496439: I external/local_tsl/tsl/platform/default/subprocess.cc:304] Start cannot spawn child process: No such file or directory\n"
     ]
    },
    {
     "name": "stdout",
     "output_type": "stream",
     "text": [
      "Loaded model: ./model/20240326_1239/bi-lstm.keras\n"
     ]
    },
    {
     "name": "stderr",
     "output_type": "stream",
     "text": [
      "2024-03-26 16:36:43.113609: I external/local_xla/xla/stream_executor/cuda/cuda_dnn.cc:454] Loaded cuDNN version 8904\n"
     ]
    }
   ],
   "source": [
    "import os\n",
    "import glob\n",
    "from keras.models import load_model\n",
    "\n",
    "# Get a list of all model files in the directory\n",
    "model_files = glob.glob(os.path.join(newestDir, \"*.keras\"))\n",
    "\n",
    "# Sort the list of model files by modification time (most recent first)\n",
    "model_files.sort(key=os.path.getmtime, reverse=True)\n",
    "\n",
    "# Select the most recent model file\n",
    "most_recent_model_file = model_files[0]\n",
    "\n",
    "# Load the selected model\n",
    "model = load_model(most_recent_model_file)\n",
    "\n",
    "# Print the path of the loaded model for verification\n",
    "print(\"Loaded model:\", most_recent_model_file)\n",
    "\n",
    "\n",
    "# Make predictions\n",
    "predict_result = model.predict(predict_X)\n",
    "\n",
    "# Invert predictions to original scale\n",
    "inverted_predictions = scaler.inverse_transform(predict_result)\n"
   ]
  },
  {
   "cell_type": "code",
   "execution_count": 21,
   "metadata": {},
   "outputs": [
    {
     "name": "stdout",
     "output_type": "stream",
     "text": [
      "Predictions: 6699.34765625\n"
     ]
    }
   ],
   "source": [
    "# Print or use the predictions as needed\n",
    "print(f\"Predictions: {inverted_predictions[0][0]}\")"
   ]
  },
  {
   "cell_type": "code",
   "execution_count": null,
   "metadata": {},
   "outputs": [],
   "source": []
  }
 ],
 "metadata": {
  "kernelspec": {
   "display_name": "sp-tf",
   "language": "python",
   "name": "python3"
  },
  "language_info": {
   "codemirror_mode": {
    "name": "ipython",
    "version": 3
   },
   "file_extension": ".py",
   "mimetype": "text/x-python",
   "name": "python",
   "nbconvert_exporter": "python",
   "pygments_lexer": "ipython3",
   "version": "3.11.8"
  }
 },
 "nbformat": 4,
 "nbformat_minor": 2
}
