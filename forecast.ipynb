{
 "cells": [
  {
   "cell_type": "markdown",
   "metadata": {},
   "source": [
    "## Data from CSV"
   ]
  },
  {
   "cell_type": "code",
   "execution_count": 3,
   "metadata": {},
   "outputs": [],
   "source": [
    "# import pandas as pd\n",
    "# import numpy as np\n",
    "# from sklearn.preprocessing import StandardScaler\n",
    "\n",
    "# # Load dataset\n",
    "# data = pd.read_csv(\"./data/TCQ_DemandSum_DST.csv\")\n",
    "# data['Target'] = data['Sum of DST']\n",
    "\n",
    "# # Hardcoded average demand, 0 means no subtraction\n",
    "# target_avg = 0\n",
    "\n",
    "# # Subtract the average from the data\n",
    "# data['Target'] = data['Target'] - target_avg\n",
    "\n",
    "# # Normalize the data using the same scaler used during training\n",
    "# scaler = StandardScaler()\n",
    "# data['Target'] = scaler.fit_transform(data['Target'].values.reshape(-1,1))\n",
    "\n",
    "# # Function to create dataset with sequences of 48 demand values\n",
    "# def create_dataset(dataset, weeks=0, days=0, periods=48):\n",
    "#     look_back=periods + (days * 48) + (weeks * 7 * 48)\n",
    "#     X, Y = [], []\n",
    "#     for i in range(len(dataset)-look_back):\n",
    "#         X.append(dataset[i:(i+look_back)])\n",
    "#         Y.append(dataset[i + look_back])\n",
    "#     return np.array(X), np.array(Y)\n",
    "\n",
    "# # Create dataset for prediction\n",
    "# weeks = 1\n",
    "# days = 0\n",
    "# periods = 0\n",
    "# predict_X, predict_Y = create_dataset(data['Target'].values, weeks=weeks, days=days, periods=periods)\n",
    "\n",
    "# # Reshape input to be [samples, time steps, features]\n",
    "# predict_X = np.reshape(predict_X, (predict_X.shape[0], predict_X.shape[1], 1))\n"
   ]
  },
  {
   "cell_type": "markdown",
   "metadata": {},
   "source": [
    "## Data from DB"
   ]
  },
  {
   "cell_type": "code",
   "execution_count": 7,
   "metadata": {},
   "outputs": [
    {
     "ename": "ImportError",
     "evalue": "dlopen(/Users/matthew/Desktop/SDC_Demand_Forecast/venv/lib/python3.9/site-packages/pyodbc.cpython-39-darwin.so, 0x0002): Library not loaded: /opt/homebrew/opt/unixodbc/lib/libodbc.2.dylib\n  Referenced from: <FB8F2083-C5E4-38CB-B0EC-0F787727A7D3> /Users/matthew/Desktop/SDC_Demand_Forecast/venv/lib/python3.9/site-packages/pyodbc.cpython-39-darwin.so\n  Reason: tried: '/opt/homebrew/opt/unixodbc/lib/libodbc.2.dylib' (no such file), '/System/Volumes/Preboot/Cryptexes/OS/opt/homebrew/opt/unixodbc/lib/libodbc.2.dylib' (no such file), '/opt/homebrew/opt/unixodbc/lib/libodbc.2.dylib' (no such file)",
     "output_type": "error",
     "traceback": [
      "\u001b[0;31m---------------------------------------------------------------------------\u001b[0m",
      "\u001b[0;31mImportError\u001b[0m                               Traceback (most recent call last)",
      "Cell \u001b[0;32mIn[7], line 4\u001b[0m\n\u001b[1;32m      2\u001b[0m \u001b[38;5;28;01mimport\u001b[39;00m \u001b[38;5;21;01mnumpy\u001b[39;00m \u001b[38;5;28;01mas\u001b[39;00m \u001b[38;5;21;01mnp\u001b[39;00m\n\u001b[1;32m      3\u001b[0m \u001b[38;5;28;01mfrom\u001b[39;00m \u001b[38;5;21;01msklearn\u001b[39;00m\u001b[38;5;21;01m.\u001b[39;00m\u001b[38;5;21;01mpreprocessing\u001b[39;00m \u001b[38;5;28;01mimport\u001b[39;00m StandardScaler\n\u001b[0;32m----> 4\u001b[0m \u001b[38;5;28;01mimport\u001b[39;00m \u001b[38;5;21;01mpyodbc\u001b[39;00m\n\u001b[1;32m      6\u001b[0m \u001b[38;5;66;03m# Define connection parameters\u001b[39;00m\n\u001b[1;32m      7\u001b[0m hostname \u001b[38;5;241m=\u001b[39m \u001b[38;5;124m\"\u001b[39m\u001b[38;5;124mHOSTNAME\u001b[39m\u001b[38;5;124m\"\u001b[39m\n",
      "\u001b[0;31mImportError\u001b[0m: dlopen(/Users/matthew/Desktop/SDC_Demand_Forecast/venv/lib/python3.9/site-packages/pyodbc.cpython-39-darwin.so, 0x0002): Library not loaded: /opt/homebrew/opt/unixodbc/lib/libodbc.2.dylib\n  Referenced from: <FB8F2083-C5E4-38CB-B0EC-0F787727A7D3> /Users/matthew/Desktop/SDC_Demand_Forecast/venv/lib/python3.9/site-packages/pyodbc.cpython-39-darwin.so\n  Reason: tried: '/opt/homebrew/opt/unixodbc/lib/libodbc.2.dylib' (no such file), '/System/Volumes/Preboot/Cryptexes/OS/opt/homebrew/opt/unixodbc/lib/libodbc.2.dylib' (no such file), '/opt/homebrew/opt/unixodbc/lib/libodbc.2.dylib' (no such file)"
     ]
    }
   ],
   "source": [
    "import pandas as pd\n",
    "import numpy as np\n",
    "from sklearn.preprocessing import StandardScaler\n",
    "import pyodbc\n",
    "\n",
    "# Define connection parameters\n",
    "hostname = \"HOSTNAME\"\n",
    "database = \"DATABASE\"\n",
    "table = \"TABLE\"\n",
    "periods = 48\n",
    "\n",
    "# Define your SQL query to fetch the last 49 periods of data\n",
    "sql_query = f\"\"\"\n",
    "    SELECT TOP {periods} * \n",
    "    FROM {table}\n",
    "    ORDER BY DateColumn DESC;  -- Replace DateColumn with the actual column name representing the date\n",
    "\"\"\"\n",
    "\n",
    "# Establish a connection to the SQL server\n",
    "connection_string = f\"DRIVER={{SQL Server}};SERVER={hostname};DATABASE={database};Trusted_Connection=yes;\"\n",
    "connection = pyodbc.connect(connection_string)\n",
    "\n",
    "# Execute the SQL query and fetch data into a DataFrame\n",
    "data = pd.read_sql(sql_query, connection)\n",
    "\n",
    "# Close the connection\n",
    "connection.close()\n",
    "\n",
    "# Perform data preprocessing as before\n",
    "data['Target'] = data['Sum of DST']\n",
    "target_avg = 0\n",
    "data['Target'] = data['Target'] - target_avg\n",
    "scaler = StandardScaler()\n",
    "data['Target'] = scaler.fit_transform(data['Target'].values.reshape(-1,1))\n",
    "\n",
    "# Create dataset for prediction\n",
    "def create_dataset(dataset):\n",
    "    return np.array(dataset)\n",
    "\n",
    "predict_X = create_dataset(data['Target'].values)\n",
    "\n",
    "# Reshape input to be [samples, time steps, features]\n",
    "predict_X = np.reshape(predict_X, (predict_X.shape[0], predict_X.shape[1], 1))\n"
   ]
  },
  {
   "cell_type": "markdown",
   "metadata": {},
   "source": [
    "## Predict using trained model"
   ]
  },
  {
   "cell_type": "code",
   "execution_count": null,
   "metadata": {},
   "outputs": [],
   "source": [
    "\n",
    "import os\n",
    "import glob\n",
    "from keras.models import load_model\n",
    "\n",
    "# Define the directory where your model files are stored\n",
    "model_directory = \"./model/\"\n",
    "\n",
    "# Get a list of all model files in the directory\n",
    "model_files = glob.glob(os.path.join(model_directory, \"lstm_*.h5\"))\n",
    "\n",
    "# Sort the list of model files by modification time (most recent first)\n",
    "model_files.sort(key=os.path.getmtime, reverse=True)\n",
    "\n",
    "# Select the most recent model file\n",
    "most_recent_model_file = model_files[0]\n",
    "\n",
    "# Load the selected model\n",
    "model = load_model(most_recent_model_file)\n",
    "\n",
    "# Print the path of the loaded model for verification\n",
    "print(\"Loaded model:\", most_recent_model_file)\n",
    "\n",
    "\n",
    "# Make predictions\n",
    "predict_result = model.predict(predict_X)\n",
    "\n",
    "# Invert predictions to original scale\n",
    "inverted_predictions = scaler.inverse_transform(predict_result) + target_avg\n",
    "\n",
    "# Print or use the predictions as needed\n",
    "print(\"Predictions:\")\n",
    "print(inverted_predictions)\n"
   ]
  }
 ],
 "metadata": {
  "kernelspec": {
   "display_name": "sp-tf",
   "language": "python",
   "name": "python3"
  },
  "language_info": {
   "codemirror_mode": {
    "name": "ipython",
    "version": 3
   },
   "file_extension": ".py",
   "mimetype": "text/x-python",
   "name": "python",
   "nbconvert_exporter": "python",
   "pygments_lexer": "ipython3",
   "version": "3.9.6"
  }
 },
 "nbformat": 4,
 "nbformat_minor": 2
}
