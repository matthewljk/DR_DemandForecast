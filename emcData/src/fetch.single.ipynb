{
 "cells": [
  {
   "cell_type": "markdown",
   "metadata": {},
   "source": [
    "# Scheduled NEMS Data fetching to Database"
   ]
  },
  {
   "cell_type": "code",
   "execution_count": 71,
   "metadata": {},
   "outputs": [],
   "source": [
    "import os\n",
    "from os.path import join\n",
    "\n",
    "ROOT = '/home/sdc/DR_DemandForecast/emcData'\n",
    "SAVE = False\n",
    "DATADIR = '/home/sdc/DR_DemandForecast/emcData/data/'\n",
    "CRONTAB = False # Set to False if running for debugging or single making up run."
   ]
  },
  {
   "cell_type": "code",
   "execution_count": 72,
   "metadata": {},
   "outputs": [],
   "source": [
    "from dep import nemsData2 as nems\n",
    "import pandas as pd\n",
    "import urllib3\n",
    "from sqlalchemy import create_engine, text\n",
    "import os\n",
    "from dotenv import load_dotenv\n",
    "\n",
    "urllib3.disable_warnings(urllib3.exceptions.InsecureRequestWarning)"
   ]
  },
  {
   "cell_type": "code",
   "execution_count": 73,
   "metadata": {},
   "outputs": [
    {
     "name": "stdout",
     "output_type": "stream",
     "text": [
      "17-Apr-2024 37\n",
      "17-Apr-2024 38\n"
     ]
    }
   ],
   "source": [
    "import datetime as dt\n",
    "from datetime import timedelta as delta\n",
    "import pytz\n",
    "\n",
    "if CRONTAB:\n",
    "    now = dt.datetime.now(pytz.timezone('Asia/Singapore'))\n",
    "    \n",
    "else:\n",
    "    # Test \n",
    "    \n",
    "    # now = dt.datetime(2024, 4, 16, 0, 5)   # Test period 1 (First period and the periods not involving tomorrow data)\n",
    "    # now = dt.datetime(2024, 4, 22, 22, 55) # Test period 46 (The period involving tomorrow data)\n",
    "    # now = dt.datetime(2024, 4, 21, 23, 40) # Test period 48 (Last period)\n",
    "    \n",
    "    # Manual override\n",
    "    now = dt.datetime(2024, 4, 17, 18, 10) # Test period 48 (Last period)\n",
    "    \n",
    "\n",
    "date_today = now.date()\n",
    "time_today = now.strftime(\"%H:%M\")\n",
    "period_now = int(now.strftime(\"%H\")) * 2 + int(now.strftime(\"%M\")) // 30 + 1\n",
    "\n",
    "# If 12 periods after current one include periods of tomorrow.\n",
    "# A.k.a Starts from period 37.\n",
    "need_tomorrow_data = period_now >= 37\n",
    "if need_tomorrow_data:\n",
    "    date_tomorrow = date_today + delta(days=1)\n",
    "\n",
    "# LAR specific start date and period\n",
    "if period_now == 48:\n",
    "    date_lar = date_today + dt.timedelta(days=1)\n",
    "    period_lar = 1\n",
    "else:\n",
    "    date_lar = date_today\n",
    "    period_lar = period_now + 1\n",
    "\n",
    "if not CRONTAB:\n",
    "    print(date_today.strftime(format='%d-%b-%Y'), period_now)\n",
    "    print(date_lar.strftime(format='%d-%b-%Y'), period_lar)"
   ]
  },
  {
   "cell_type": "code",
   "execution_count": 74,
   "metadata": {},
   "outputs": [
    {
     "name": "stdout",
     "output_type": "stream",
     "text": [
      "[S][17-Apr-2024 18:10 P-37]"
     ]
    }
   ],
   "source": [
    "print(f\"[S][{date_today.strftime(format='%d-%b-%Y')} {now.time().strftime(format='%H:%M')} P-{period_now:0>2d}]\", end=\"\")"
   ]
  },
  {
   "cell_type": "markdown",
   "metadata": {},
   "source": [
    "## Fetch Data"
   ]
  },
  {
   "cell_type": "markdown",
   "metadata": {},
   "source": [
    "### Methods"
   ]
  },
  {
   "cell_type": "markdown",
   "metadata": {},
   "source": [
    "#### Corp Data"
   ]
  },
  {
   "cell_type": "code",
   "execution_count": 75,
   "metadata": {},
   "outputs": [],
   "source": [
    "def corp_for_dpr(corp_df):\n",
    "    corp_df = corp_df.copy()\n",
    "    corp_df = corp_df[['Date', 'Period'] +\n",
    "                      [col for col in corp_df.columns if col not in ['Date', 'Period', 'reportType', 'secondaryReserve']]]\n",
    "\n",
    "    # Convert to int\n",
    "    corp_df['Period'] = corp_df['Period'].astype(int)\n",
    "\n",
    "    # Convert to float\n",
    "    float_cols = ['Demand', 'TCL', 'USEP', 'LCP', 'Regulation', 'PrimaryReserve']\n",
    "    corp_df[float_cols] = corp_df[float_cols].apply(pd.to_numeric, errors='coerce')\n",
    "\n",
    "    # If 'secondaryReserve' and 'contingencyReserve' contain 'None', convert to float and keep NaN\n",
    "    corp_df[['ContingencyReserve', 'EHEUR', 'Solar']] = corp_df[[\n",
    "        'ContingencyReserve', 'EHEUR', 'Solar']].apply(pd.to_numeric, errors='coerce')\n",
    "    \n",
    "    return corp_df\n",
    "\n",
    "\n",
    "def corp_for_lar(corp_df):\n",
    "    corp_df = corp_df.copy()\n",
    "    corp_df = corp_df[['Date', 'Period'] +\n",
    "                      [col for col in corp_df.columns if col not in ['Date', 'Period', 'reportType', 'secondaryReserve', 'Demand', 'TCL', 'USEP', 'LCP', 'EHEUR', 'Solar']]]\n",
    "\n",
    "    # Convert 'period' to int\n",
    "    corp_df['Period'] = corp_df['Period'].astype(int)\n",
    "\n",
    "    # Convert 'regulation', 'primaryReserve', 'contingencyReserve' to float\n",
    "    float_cols = ['Regulation', 'PrimaryReserve', 'ContingencyReserve']\n",
    "    corp_df[float_cols] = corp_df[float_cols].apply(\n",
    "        pd.to_numeric, errors='coerce')\n",
    "\n",
    "    return corp_df"
   ]
  },
  {
   "cell_type": "markdown",
   "metadata": {},
   "source": [
    "#### MCR010 Data"
   ]
  },
  {
   "cell_type": "code",
   "execution_count": 76,
   "metadata": {},
   "outputs": [],
   "source": [
    "def get_mcr010(mcr_serie):\n",
    "    mcr010 = nems.getMCRReport('MCR010', mcr_serie.iloc[0])\n",
    "    return mcr010"
   ]
  },
  {
   "cell_type": "markdown",
   "metadata": {},
   "source": [
    "#### MCR012 Data"
   ]
  },
  {
   "cell_type": "code",
   "execution_count": 77,
   "metadata": {},
   "outputs": [],
   "source": [
    "def get_mcr012(mcrSerie):\n",
    "    mcr012_df = nems.getMCRReport('MCR012', mcrSerie.iloc[0])\n",
    "    return mcr012_df"
   ]
  },
  {
   "cell_type": "markdown",
   "metadata": {},
   "source": [
    "#### Network Traffic Control "
   ]
  },
  {
   "cell_type": "code",
   "execution_count": 78,
   "metadata": {},
   "outputs": [],
   "source": [
    "import time as t\n",
    "\n",
    "def wait_retry (func, targetType=pd.DataFrame):\n",
    "\n",
    "    for i in range(10):\n",
    "        try:\n",
    "            data = func\n",
    "            \n",
    "            if not type(data) == targetType:\n",
    "                print(data)\n",
    "                raise Exception(f\"Expected {targetType} but got {type(data)}\")\n",
    "            \n",
    "            print('.', end='')\n",
    "            t.sleep(10) # Sleep awhile if successfully fetched data\n",
    "            return data\n",
    "            \n",
    "        except Exception as e:\n",
    "            print(f\"In API call, error message: {e}\")\n",
    "            t.sleep(30) # Sleep for a long time to wait for next try\n",
    "            continue\n"
   ]
  },
  {
   "cell_type": "markdown",
   "metadata": {},
   "source": [
    "### Main Process"
   ]
  },
  {
   "cell_type": "markdown",
   "metadata": {},
   "source": [
    "#### Corp Data"
   ]
  },
  {
   "cell_type": "code",
   "execution_count": 79,
   "metadata": {},
   "outputs": [
    {
     "name": "stdout",
     "output_type": "stream",
     "text": [
      " Corp"
     ]
    },
    {
     "name": "stdout",
     "output_type": "stream",
     "text": [
      ".."
     ]
    }
   ],
   "source": [
    "print(\" Corp\", end=\"\")\n",
    "corp_df = wait_retry(nems.getCorp(date_today.strftime(format='%d-%b-%Y')))\n",
    "if SAVE: \n",
    "    corp_df.to_csv(f\"{DATADIR}Corp_{date_today.strftime(format='%Y-%m-%d')}.csv\", index=False)\n",
    "corp_today = corp_for_dpr(corp_df)\n",
    "\n",
    "if need_tomorrow_data:\n",
    "    corp_df = wait_retry(nems.getCorp(date_tomorrow.strftime(format='%d-%b-%Y')))\n",
    "    if SAVE: \n",
    "        corp_df.to_csv(f\"{DATADIR}Corp_{date_tomorrow.strftime(format='%Y-%m-%d')}.csv\", index=False)\n",
    "    corp_tomorrow = corp_for_lar(corp_df)\n",
    "else:\n",
    "    print(\"_\", end=\"\")\n",
    "\n",
    "del corp_df"
   ]
  },
  {
   "cell_type": "markdown",
   "metadata": {},
   "source": [
    "#### MCR001\n",
    "\n",
    "In **MCR001**, both *DPR* and *LAR* returns 48 rows. \n",
    "- *DPR* requires the row of current period. \n",
    "- *LAR* requires the row of next period."
   ]
  },
  {
   "cell_type": "code",
   "execution_count": 80,
   "metadata": {},
   "outputs": [
    {
     "name": "stdout",
     "output_type": "stream",
     "text": [
      " MCR001...."
     ]
    }
   ],
   "source": [
    "print(\" MCR001\", end=\"\")\n",
    "# DPR\n",
    "mcr_df = wait_retry(nems.getMCR001(date_today.strftime(format='%d-%b-%Y'), 'M'))\n",
    "if SAVE:\n",
    "    mcr_df.to_csv(f\"{DATADIR}MCR001_DPR_{date_today.strftime(format='%d-%b-%Y')}_{period_now}.csv\", index=False)\n",
    "mcr_serie = mcr_df[\n",
    "    (mcr_df['FirstDate'] == date_today) & \n",
    "    (mcr_df['FirstPeriod'] == period_now)].copy()\n",
    "\n",
    "\n",
    "# LAR H\n",
    "mcr_h_df = wait_retry(nems.getMCR001(date_lar.strftime(format='%d-%b-%Y'), 'H', runType='LAR'))\n",
    "if SAVE:\n",
    "    mcr_h_df.to_csv(\n",
    "        f\"{DATADIR}MCR001_LAR_H_{date_lar.strftime(format='%d-%b-%Y')}_{period_lar}.csv\", index=False)\n",
    "mcr_h_serie = mcr_h_df[\n",
    "    (mcr_h_df['FirstDate'] == date_lar) & \n",
    "    (mcr_h_df['FirstPeriod'] == period_lar)].copy()\n",
    "\n",
    "# LAR M\n",
    "mcr_m_df = wait_retry(nems.getMCR001(date_lar.strftime(format='%d-%b-%Y'), 'M', runType='LAR'))\n",
    "if SAVE:\n",
    "    mcr_m_df.to_csv(\n",
    "        f\"{DATADIR}MCR001_LAR_M_{date_lar.strftime(format='%d-%b-%Y')}_{period_lar}.csv\", index=False)\n",
    "mcr_m_serie = mcr_m_df[\n",
    "    (mcr_m_df['FirstDate'] == date_lar) & \n",
    "    (mcr_m_df['FirstPeriod'] == period_lar)].copy()\n",
    "\n",
    "# LAR L\n",
    "mcr_l_df = wait_retry(nems.getMCR001(date_lar.strftime(format='%d-%b-%Y'), 'L', runType='LAR'))\n",
    "if SAVE:\n",
    "    mcr_l_df.to_csv(\n",
    "        f\"{DATADIR}MCR001_LAR_L_{date_lar.strftime(format='%d-%b-%Y')}_{period_lar}.csv\", index=False)\n",
    "mcr_l_serie = mcr_l_df[\n",
    "    (mcr_l_df['FirstDate'] == date_lar) & \n",
    "    (mcr_l_df['FirstPeriod'] == period_lar)].copy()"
   ]
  },
  {
   "cell_type": "markdown",
   "metadata": {},
   "source": [
    "#### MCR010\n",
    "\n",
    "For **MCR010**, \n",
    "\n",
    "- *DPR* verison contains only 1 row of current period.\n",
    "- *LAR* version contains 12 rows ahead curren period.\n"
   ]
  },
  {
   "cell_type": "code",
   "execution_count": 81,
   "metadata": {},
   "outputs": [
    {
     "name": "stdout",
     "output_type": "stream",
     "text": [
      " MCR010...."
     ]
    }
   ],
   "source": [
    "''' Get MCR010 '''\n",
    "print(\" MCR010\", end=\"\")\n",
    "# DPR\n",
    "mcr010_df = wait_retry(get_mcr010(mcr_serie))\n",
    "if SAVE:\n",
    "    mcr010_df.to_csv(f\"{DATADIR}MCR010_DPR_{date_today.strftime(format='%d-%b-%Y')}_{period_now}.csv\", index=False)\n",
    "# LAR\n",
    "mcr010_h_df = wait_retry(get_mcr010(mcr_h_serie))\n",
    "if SAVE:\n",
    "    mcr010_h_df.to_csv(f\"{DATADIR}MCR010_LAR_H_{date_today.strftime(format='%d-%b-%Y')}_{period_lar}.csv\", index=False)\n",
    "mcr010_m_df = wait_retry(get_mcr010(mcr_m_serie))\n",
    "if SAVE:\n",
    "    mcr010_m_df.to_csv(f\"{DATADIR}MCR010_LAR_M_{date_today.strftime(format='%d-%b-%Y')}_{period_lar}.csv\", index=False)\n",
    "mcr010_l_df = wait_retry(get_mcr010(mcr_l_serie))\n",
    "if SAVE:\n",
    "    mcr010_l_df.to_csv(f\"{DATADIR}MCR010_LAR_L_{date_today.strftime(format='%d-%b-%Y')}_{period_lar}.csv\", index=False)"
   ]
  },
  {
   "cell_type": "markdown",
   "metadata": {},
   "source": [
    "#### MCR012\n",
    "\n",
    "For **MCR012**, \n",
    "\n",
    "- *DPR* verison contains only 1 row of current period.\n",
    "- *LAR* version contains $12\\times3$ rows ahead curren period.\n"
   ]
  },
  {
   "cell_type": "code",
   "execution_count": 82,
   "metadata": {},
   "outputs": [
    {
     "name": "stdout",
     "output_type": "stream",
     "text": [
      " MCR012...."
     ]
    }
   ],
   "source": [
    "''' Get MCR012 '''\n",
    "print(\" MCR012\", end=\"\")\n",
    "# DPR\n",
    "mcr012_df = wait_retry(get_mcr012(mcr_serie))\n",
    "if SAVE: \n",
    "    mcr012_df.to_csv(f\"{DATADIR}MCR012_DPR_{date_today.strftime(format='%d-%b-%Y')}_{period_now}.csv\", index=False)\n",
    "# LAR\n",
    "mcr012_h_df = wait_retry(get_mcr012(mcr_h_serie))\n",
    "if SAVE: \n",
    "    mcr012_h_df.to_csv(f\"{DATADIR}MCR012_LAR_H_{date_today.strftime(format='%d-%b-%Y')}_{period_lar}.csv\", index=False)\n",
    "mcr012_m_df = wait_retry(get_mcr012(mcr_m_serie))\n",
    "if SAVE: \n",
    "    mcr012_m_df.to_csv(f\"{DATADIR}MCR012_LAR_M_{date_today.strftime(format='%d-%b-%Y')}_{period_lar}.csv\", index=False)\n",
    "mcr012_l_df = wait_retry(get_mcr012(mcr_l_serie))\n",
    "if SAVE: \n",
    "    mcr012_l_df.to_csv(f\"{DATADIR}MCR012_LAR_L_{date_today.strftime(format='%d-%b-%Y')}_{period_lar}.csv\", index=False)"
   ]
  },
  {
   "cell_type": "markdown",
   "metadata": {},
   "source": [
    "## Join Data"
   ]
  },
  {
   "cell_type": "markdown",
   "metadata": {},
   "source": [
    "### Methods"
   ]
  },
  {
   "cell_type": "markdown",
   "metadata": {},
   "source": [
    "#### DPR"
   ]
  },
  {
   "cell_type": "code",
   "execution_count": 83,
   "metadata": {},
   "outputs": [],
   "source": [
    "def mcr010_for_dpr(mcr010_df):   \n",
    "    mcr010_df = mcr010_df.copy() \n",
    "    mcr010_df = mcr010_df[['ForecastDate', 'ForecastPeriod', 'CUSEP', 'TransmissionLoss', 'EnergyShortfall', 'RLQ']].copy()\n",
    "    mcr010_df['ForecastPeriod'] = mcr010_df['ForecastPeriod'].astype(int)\n",
    "    \n",
    "    return mcr010_df"
   ]
  },
  {
   "cell_type": "code",
   "execution_count": 84,
   "metadata": {},
   "outputs": [],
   "source": [
    "def mcr012_for_dpr(mcr012_df):\n",
    "    \n",
    "    mcr012_df = mcr012_df.copy()\n",
    "    \n",
    "    # Flatten MCR012\n",
    "    mcr012_data = {}\n",
    "    for index, row in mcr012_df.iterrows():\n",
    "        mcr012_data[\"ForecastDate\"] = [row[\"ForecastDate\"]]\n",
    "        mcr012_data[\"ForecastPeriod\"] = [row[\"ForecastPeriod\"]]\n",
    "        mcr012_data[f\"{row['AncillaryService']}_ReserveRequirement\"] = [row[\"ReserveRequirementMW\"]]\n",
    "        mcr012_data[f\"{row['AncillaryService']}_RegulationShortfall\"] = [row[\"RegulationShortfallMW\"]]\n",
    "    \n",
    "    # Create a new MCR012 DataFrame\n",
    "    mcr012_df = pd.DataFrame(mcr012_data)\n",
    "    \n",
    "    mcr012_df.rename(\n",
    "        {\n",
    "            'REGULATION_ReserveRequirement': 'RegulationRequirement',\n",
    "            'REGULATION_RegulationShortfall': 'RegulationShortfall',\n",
    "            'PRIMARY RESERVE_ReserveRequirement': 'PrimaryReserveRequirement',\n",
    "            'PRIMARY RESERVE_RegulationShortfall': 'PrimaryReserveShortfall',\n",
    "            'CONTINGENCY RESERVE_ReserveRequirement': 'ContingencyReserveRequirement',\n",
    "            'CONTINGENCY RESERVE_RegulationShortfall': 'ContingencyReserveShortfall'\n",
    "        },\n",
    "        axis=1,\n",
    "        inplace=True\n",
    "    )\n",
    "    mcr012_df['ForecastPeriod'] = mcr012_df['ForecastPeriod'].astype(int)\n",
    "    \n",
    "    return mcr012_df"
   ]
  },
  {
   "cell_type": "code",
   "execution_count": 85,
   "metadata": {},
   "outputs": [],
   "source": [
    "def get_dpr(corp_peri_df, mcr010_df, mcr012_df):\n",
    "    \n",
    "    mcr_df = pd.merge(mcr010_df, mcr012_df, how='inner',\n",
    "                      on=['ForecastDate', 'ForecastPeriod'])\n",
    "    \n",
    "    mcr_df.rename({\n",
    "        'ForecastDate': 'Date',\n",
    "        'ForecastPeriod': 'Period'\n",
    "        }, \n",
    "        axis=1, \n",
    "        inplace=True\n",
    "    )\n",
    "\n",
    "    dpr_df = pd.merge(corp_peri_df, mcr_df, how='inner',\n",
    "                        on=['Date', 'Period'])\n",
    "\n",
    "    float64_cols = ['Demand', 'TCL', 'USEP', 'LCP', 'Regulation',\n",
    "                    'PrimaryReserve', 'ContingencyReserve', 'EHEUR', 'Solar', 'CUSEP',\n",
    "                    'TransmissionLoss', 'EnergyShortfall', 'RLQ', 'RegulationRequirement',\n",
    "                    'RegulationShortfall', 'PrimaryReserveRequirement',\n",
    "                    'PrimaryReserveShortfall', 'ContingencyReserveRequirement',\n",
    "                    'ContingencyReserveShortfall']\n",
    "    dpr_df[float64_cols] = dpr_df[float64_cols].astype('float64')\n",
    "\n",
    "    dpr_df.fillna(0, inplace=True)\n",
    "\n",
    "    dpr_df = dpr_df[['Date', 'Period',\n",
    "                    'Demand', 'TCL', 'USEP', 'CUSEP',  'LCP', 'TransmissionLoss', 'EnergyShortfall',\n",
    "                    'RLQ', 'Regulation', 'RegulationRequirement', 'RegulationShortfall',\n",
    "                    'PrimaryReserve', 'PrimaryReserveRequirement', 'PrimaryReserveShortfall',\n",
    "                    'ContingencyReserve', 'ContingencyReserveRequirement', \n",
    "                    'ContingencyReserveShortfall', 'EHEUR', 'Solar'\n",
    "                    ]]\n",
    "    \n",
    "    print(\".\", end=\"\")\n",
    "    return dpr_df"
   ]
  },
  {
   "cell_type": "markdown",
   "metadata": {},
   "source": [
    "#### LAR"
   ]
  },
  {
   "cell_type": "code",
   "execution_count": 86,
   "metadata": {},
   "outputs": [],
   "source": [
    "def mcr010_for_lar(date_today, period_now, mcr010_df, load_scenario):\n",
    "    mcr010_df = mcr010_df.copy() \n",
    "    mcr010_df = mcr010_df[['ForecastDate', 'ForecastPeriod', 'TotalLoad', 'TCL', 'USEP', 'CUSEP', 'LCP', 'TransmissionLoss', 'EnergyShortfall', 'RLQ', 'EHEUR', 'Solar']].copy()\n",
    "\n",
    "    # mcr010_df['ForecastPeriod'] = mcr010_df['ForecastPeriod'].astype('int64')\n",
    "\n",
    "    # Add current date and period back to dataframe.\n",
    "    mcr010_df['Period'] = period_now\n",
    "    mcr010_df['Date'] = date_today\n",
    "\n",
    "    # Add load scenario info\n",
    "    mcr010_df['LoadScenario'] = load_scenario\n",
    "\n",
    "    mcr010_df.rename(\n",
    "        {\n",
    "            'TotalLoad': 'Demand'\n",
    "        },\n",
    "        axis=1,\n",
    "        inplace=True\n",
    "    )\n",
    "\n",
    "    return mcr010_df"
   ]
  },
  {
   "cell_type": "code",
   "execution_count": 87,
   "metadata": {},
   "outputs": [],
   "source": [
    "def mcr012_for_lar(date_today, period_now, mcr012_df):\n",
    "    mcr012_df = mcr012_df.copy()\n",
    "    \n",
    "    # Flatten MCR012\n",
    "    mcr012_data = {\n",
    "        'ForecastDate': [],\n",
    "        'ForecastPeriod': [],\n",
    "        'RegulationRequirement': [],\n",
    "        'RegulationShortfall': [],\n",
    "        'PrimaryReserveRequirement': [],\n",
    "        'PrimaryReserveShortfall': [],\n",
    "        'ContingencyReserveRequirement': [],\n",
    "        'ContingencyReserveShortfall': [],\n",
    "    }\n",
    "    \n",
    "    count = 1\n",
    "    for index, row in mcr012_df.iterrows():\n",
    "\n",
    "        if count%3 == 0:\n",
    "            mcr012_data['ForecastDate'].append(row[\"ForecastDate\"])\n",
    "            mcr012_data['ForecastPeriod'].append(row[\"ForecastPeriod\"])\n",
    "            count = 1\n",
    "        else: \n",
    "            count += 1\n",
    "\n",
    "        if row['AncillaryService'] == 'REGULATION':\n",
    "            mcr012_data['RegulationRequirement'].append(row[\"ReserveRequirementMW\"])\n",
    "            mcr012_data['RegulationShortfall'].append(row[\"RegulationShortfallMW\"])\n",
    "        if row['AncillaryService'] == 'PRIMARY RESERVE':\n",
    "            mcr012_data['PrimaryReserveRequirement'].append(row[\"ReserveRequirementMW\"])\n",
    "            mcr012_data['PrimaryReserveShortfall'].append(row[\"RegulationShortfallMW\"])\n",
    "        if row['AncillaryService'] == 'CONTINGENCY RESERVE':\n",
    "            mcr012_data['ContingencyReserveRequirement'].append(row[\"ReserveRequirementMW\"])\n",
    "            mcr012_data['ContingencyReserveShortfall'].append(row[\"RegulationShortfallMW\"])\n",
    "    \n",
    "\n",
    "    # Create a new MCR012 DataFrame\n",
    "    mcr012_df = pd.DataFrame(mcr012_data)\n",
    "    mcr012_df['Date'] = date_today\n",
    "    mcr012_df['Period'] = period_now\n",
    "\n",
    "    return mcr012_df"
   ]
  },
  {
   "cell_type": "code",
   "execution_count": 88,
   "metadata": {},
   "outputs": [],
   "source": [
    "def get_lar(corp_peri_df: pd.DataFrame, mcr010_df, mcr012_df):\n",
    "    \n",
    "    mcr_df = pd.merge(mcr010_df, mcr012_df, how='left',\n",
    "                      on=['ForecastDate', 'ForecastPeriod','Date','Period'])\n",
    "    corp_peri_df.rename(\n",
    "        {\n",
    "            \"Date\": \"ForecastDate\",\n",
    "            \"Period\": \"ForecastPeriod\"\n",
    "        },\n",
    "        axis=1,\n",
    "        inplace=True\n",
    "    )\n",
    "\n",
    "    corp_peri_df = corp_peri_df[[\n",
    "        \"ForecastDate\", \"ForecastPeriod\", \n",
    "        'Regulation', 'PrimaryReserve', 'ContingencyReserve'\n",
    "        ]]\n",
    "\n",
    "    # return corp_peri_df\n",
    "\n",
    "    lar_df = pd.merge(corp_peri_df, mcr_df, how='left',\n",
    "                      on=['ForecastDate', 'ForecastPeriod'])\n",
    "    # return lar_df\n",
    "\n",
    "    float64_cols = ['Demand', 'TCL', 'USEP', 'CUSEP', 'LCP', 'TransmissionLoss',\n",
    "                    'EnergyShortfall', 'RLQ', 'EHEUR', 'RegulationRequirement', 'Regulation', \n",
    "                    'RegulationShortfall', 'PrimaryReserveRequirement', 'PrimaryReserve', \n",
    "                    'PrimaryReserveShortfall', 'ContingencyReserveRequirement', \n",
    "                    'ContingencyReserve', 'ContingencyReserveShortfall', 'Solar']\n",
    "\n",
    "    lar_df[float64_cols] = lar_df[float64_cols].astype('float64')\n",
    "\n",
    "    # lar_df['Date'] = lar_df['Date'].dt.date\n",
    "    # lar_df['ForecastDate'] = lar_df['ForecastDate'].dt.date\n",
    "\n",
    "    lar_df.fillna(0, inplace=True)\n",
    "\n",
    "    lar_df = lar_df[['Date', 'Period', 'LoadScenario', 'ForecastDate', 'ForecastPeriod',\n",
    "                    'Demand', 'TCL', 'USEP', 'CUSEP', 'LCP', 'TransmissionLoss',\n",
    "                     'EnergyShortfall', 'RLQ', 'EHEUR', 'RegulationRequirement', 'Regulation', \n",
    "                     'RegulationShortfall', 'PrimaryReserveRequirement', 'PrimaryReserve', \n",
    "                     'PrimaryReserveShortfall', 'ContingencyReserveRequirement', \n",
    "                     'ContingencyReserve', 'ContingencyReserveShortfall', 'Solar'\n",
    "                    ]]\n",
    "\n",
    "    print(\".\", end=\"\")\n",
    "    return lar_df"
   ]
  },
  {
   "cell_type": "markdown",
   "metadata": {},
   "source": [
    "### Main Process"
   ]
  },
  {
   "cell_type": "markdown",
   "metadata": {},
   "source": [
    "#### Debugging Startpoint\n",
    "\n",
    "If data has been stored into `.csv` file, can load from here to debug following code."
   ]
  },
  {
   "cell_type": "code",
   "execution_count": 89,
   "metadata": {},
   "outputs": [],
   "source": [
    "DEBUG = False"
   ]
  },
  {
   "cell_type": "code",
   "execution_count": 90,
   "metadata": {},
   "outputs": [],
   "source": [
    "def date_as_date(df: pd.DataFrame):\n",
    "    df = df.copy()\n",
    "    for col in df.columns:\n",
    "        if \"Date\" in col:\n",
    "            df[col] = pd.to_datetime(df[col])\n",
    "            df[col] = df[col].dt.date\n",
    "    return df"
   ]
  },
  {
   "cell_type": "code",
   "execution_count": 91,
   "metadata": {},
   "outputs": [],
   "source": [
    "if DEBUG:\n",
    "    print(\"Using debugging dataset\")\n",
    "    corp_today = pd.read_csv(join(DATADIR, 'Corp_2024-04-16.csv'))\n",
    "    corp_today = date_as_date(corp_today)\n",
    "    corp_tomorrow = pd.read_csv(join(DATADIR, 'Corp_2024-04-17.csv'))\n",
    "    corp_tomorrow = date_as_date(corp_tomorrow)\n",
    "\n",
    "    mcr_df = pd.read_csv(join(DATADIR, 'MCR001_DPR_16-Apr-2024_46.csv'))\n",
    "    mcr_df = date_as_date(mcr_df)\n",
    "    mcr_serie = mcr_df[\n",
    "        (mcr_df['FirstDate'] == date_today) & \n",
    "        (mcr_df['FirstPeriod'] == period_now)].copy()\n",
    "\n",
    "    mcr_h_df = pd.read_csv(join(DATADIR, 'MCR001_LAR_H_16-Apr-2024_47.csv'))\n",
    "    mcr_h_df = date_as_date(mcr_h_df)\n",
    "    mcr_h_serie = mcr_h_df[\n",
    "        (mcr_h_df['FirstDate'] == date_lar) & \n",
    "        (mcr_h_df['FirstPeriod'] == period_lar)].copy()\n",
    "\n",
    "    mcr_m_df = pd.read_csv(join(DATADIR, 'MCR001_LAR_M_16-Apr-2024_47.csv'))\n",
    "    mcr_m_df = date_as_date(mcr_m_df)\n",
    "    mcr_m_serie = mcr_m_df[\n",
    "        (mcr_m_df['FirstDate'] == date_lar) & \n",
    "        (mcr_m_df['FirstPeriod'] == period_lar)].copy()\n",
    "\n",
    "    mcr_l_df = pd.read_csv(join(DATADIR, 'MCR001_LAR_L_16-Apr-2024_47.csv'))\n",
    "    mcr_l_df = date_as_date(mcr_l_df)\n",
    "    mcr_l_serie = mcr_l_df[\n",
    "        (mcr_l_df['FirstDate'] == date_lar) & \n",
    "        (mcr_l_df['FirstPeriod'] == period_lar)].copy()\n",
    "\n",
    "    mcr010_df = pd.read_csv(join(DATADIR, 'MCR010_DPR_16-Apr-2024_46.csv'))\n",
    "    mcr010_df = date_as_date(mcr010_df)\n",
    "    mcr010_h_df = pd.read_csv(join(DATADIR, 'MCR010_LAR_H_16-Apr-2024_47.csv'))\n",
    "    mcr010_h_df = date_as_date(mcr010_h_df)\n",
    "    mcr010_m_df = pd.read_csv(join(DATADIR, 'MCR010_LAR_M_16-Apr-2024_47.csv'))\n",
    "    mcr010_m_df = date_as_date(mcr010_m_df)\n",
    "    mcr010_l_df = pd.read_csv(join(DATADIR, 'MCR010_LAR_L_16-Apr-2024_47.csv'))\n",
    "    mcr010_l_df = date_as_date(mcr010_l_df)\n",
    "\n",
    "    mcr012_df = pd.read_csv(join(DATADIR, 'MCR012_DPR_16-Apr-2024_46.csv'))\n",
    "    mcr012_df = date_as_date(mcr012_df)\n",
    "    mcr012_h_df = pd.read_csv(join(DATADIR, 'MCR012_LAR_H_16-Apr-2024_47.csv'))\n",
    "    mcr012_h_df = date_as_date(mcr012_h_df)\n",
    "    mcr012_m_df = pd.read_csv(join(DATADIR, 'MCR012_LAR_M_16-Apr-2024_47.csv'))\n",
    "    mcr012_m_df = date_as_date(mcr012_m_df)\n",
    "    mcr012_l_df = pd.read_csv(join(DATADIR, 'MCR012_LAR_L_16-Apr-2024_47.csv'))\n",
    "    mcr012_l_df = date_as_date(mcr012_l_df)"
   ]
  },
  {
   "cell_type": "markdown",
   "metadata": {},
   "source": [
    "#### DPR"
   ]
  },
  {
   "cell_type": "code",
   "execution_count": 92,
   "metadata": {},
   "outputs": [
    {
     "name": "stdout",
     "output_type": "stream",
     "text": [
      " DPR."
     ]
    }
   ],
   "source": [
    "''' DPR '''\n",
    "print(\" DPR\", end='')\n",
    "# DPR required data\n",
    "corp_peri_df = corp_today[\n",
    "    (corp_today['Date'] == date_today) & \n",
    "    (corp_today['Period'] == period_now)].copy()\n",
    "\n",
    "mcr010_dpr_df = mcr010_for_dpr(mcr010_df)\n",
    "mcr012_dpr_df = mcr012_for_dpr(mcr012_df)\n",
    "\n",
    "# Construct DPR\n",
    "dpr_df = get_dpr(corp_peri_df, mcr010_dpr_df, mcr012_dpr_df)"
   ]
  },
  {
   "cell_type": "markdown",
   "metadata": {},
   "source": [
    "#### LAR\n",
    "\n",
    "To construct **LAR** dataframe, for every scenario, there should be 12 rows data."
   ]
  },
  {
   "cell_type": "code",
   "execution_count": 93,
   "metadata": {},
   "outputs": [
    {
     "name": "stdout",
     "output_type": "stream",
     "text": [
      " LAR"
     ]
    }
   ],
   "source": [
    "print(\" LAR\", end='')\n",
    "# LAR required data\n",
    "corp_df = corp_today[\n",
    "    (corp_today['Date'] == date_lar) &\n",
    "    (corp_today['Period'] >= period_lar) &\n",
    "    (corp_today['Period'] < period_lar + 12)\n",
    "    ].copy()"
   ]
  },
  {
   "cell_type": "code",
   "execution_count": 94,
   "metadata": {},
   "outputs": [],
   "source": [
    "if need_tomorrow_data:\n",
    "    # Example 1: now is period 37, then LAR data range involves\n",
    "    #   - Today: period 38 - 48, 11 periods in total.\n",
    "    #   - Tomorrow: period 1, 1 period in total.\n",
    "    \n",
    "    # Example 2, now is period 48, then LAR data range involves\n",
    "    #   - Today: No data.\n",
    "    #   - Tomorrow: period 1 - 12, 12 period in total.\n",
    "    \n",
    "    count_period_today = 48 - period_now\n",
    "    period_lar_end = 12 - count_period_today\n",
    "    # print(count_period_today, count_period_tomorrow, period_lar_end)\n",
    "    \n",
    "    corp_df_tomorrow = corp_tomorrow[\n",
    "        (corp_tomorrow['Date'] == date_tomorrow) & \n",
    "        (corp_tomorrow['Period'] <= period_lar_end)].copy()\n",
    "\n",
    "    corp_df = pd.concat([corp_df, corp_df_tomorrow])"
   ]
  },
  {
   "cell_type": "code",
   "execution_count": 95,
   "metadata": {},
   "outputs": [
    {
     "name": "stdout",
     "output_type": "stream",
     "text": [
      "..."
     ]
    }
   ],
   "source": [
    "''' LAR H '''\n",
    "# Construct LAR\n",
    "mcr010_lar_df = mcr010_for_lar(date_today, period_now, mcr010_h_df, 'H')\n",
    "mcr012_lar_df = mcr012_for_lar(date_today, period_now, mcr012_h_df)\n",
    "lar_h_df = get_lar(corp_df, mcr010_lar_df, mcr012_lar_df)\n",
    "\n",
    "\n",
    "''' LAR M '''\n",
    "# Construct LAR\n",
    "mcr010_lar_df = mcr010_for_lar(date_today, period_now, mcr010_m_df, 'M')\n",
    "mcr012_lar_df = mcr012_for_lar(date_today, period_now, mcr012_m_df)\n",
    "lar_m_df = get_lar(corp_df, mcr010_lar_df, mcr012_lar_df)\n",
    "\n",
    "\n",
    "''' LAR L '''\n",
    "# Construct LAR\n",
    "mcr010_lar_df = mcr010_for_lar(date_today, period_now, mcr010_l_df, 'L')\n",
    "mcr012_lar_df = mcr012_for_lar(date_today, period_now, mcr012_l_df)\n",
    "lar_l_df = get_lar(corp_df, mcr010_lar_df, mcr012_lar_df)"
   ]
  },
  {
   "cell_type": "markdown",
   "metadata": {},
   "source": [
    "## Save to DB"
   ]
  },
  {
   "cell_type": "markdown",
   "metadata": {},
   "source": [
    "### Methods"
   ]
  },
  {
   "cell_type": "markdown",
   "metadata": {},
   "source": [
    "#### DB Connection"
   ]
  },
  {
   "cell_type": "code",
   "execution_count": 96,
   "metadata": {},
   "outputs": [],
   "source": [
    "# Load the environment variables from the .env file\n",
    "env_file = join(ROOT, '.env')\n",
    "load_dotenv(env_file)\n",
    "\n",
    "# Get the values of host, user, pswd, db, and schema from the environment variables\n",
    "host = os.getenv('host')\n",
    "user = os.getenv('user')\n",
    "pswd = os.getenv('pswd')\n",
    "db = os.getenv('db')\n",
    "# schema = os.getenv('schema')\n",
    "schema = 'public'\n",
    "\n",
    "# Use the values as needed\n",
    "engine = create_engine(f\"postgresql://{user}:{pswd}@{host}/{db}?options=-csearch_path%3D{schema}\", echo=False)\n",
    "conn = engine.connect()"
   ]
  },
  {
   "cell_type": "markdown",
   "metadata": {},
   "source": [
    "#### DPR to DB"
   ]
  },
  {
   "cell_type": "code",
   "execution_count": 97,
   "metadata": {},
   "outputs": [],
   "source": [
    "def db_dpr(dpr_df):\n",
    "    \n",
    "    dpr_se = dpr_df.iloc[0]\n",
    "    \n",
    "    # check existing row\n",
    "    row_exists_query = f\"\"\"\n",
    "        SELECT 1 FROM emcdata.\"RealTimeDPR\"\n",
    "            WHERE \"Date\" = '{dpr_se['Date'].strftime(format='%Y-%m-%d')}' AND \"Period\" = '{dpr_se['Period']}';\n",
    "        \"\"\"\n",
    "    row_exists = conn.execute(text(row_exists_query)).scalar()\n",
    "\n",
    "    if row_exists:\n",
    "\n",
    "        set_pairs = []\n",
    "        d = dpr_se.to_dict()\n",
    "        for k,v in d.items():\n",
    "            \n",
    "            if 'Date' in k:\n",
    "                set_pairs.append(f\"\"\"\"{k}\"='{v.strftime(format=\"%Y-%m-%d\")}'\"\"\")\n",
    "                continue\n",
    "\n",
    "            set_pairs.append(f\"\"\"\"{k}\"={float(v)}\"\"\")\n",
    "        \n",
    "        update_query = f'''\n",
    "            UPDATE emcdata.\"RealTimeDPR\" \n",
    "                SET {\", \".join(set_pairs)}\n",
    "                WHERE \n",
    "                    \"Date\" = '{dpr_se['Date'].strftime(format='%Y-%m-%d')}' AND \n",
    "                    \"Period\" = {dpr_se['Period']}\n",
    "            ;\n",
    "            '''\n",
    "        # print(update_query)\n",
    "        conn.execute(text(update_query))\n",
    "        conn.commit()\n",
    "        print(\"*\", end=\"\")\n",
    "        return 0\n",
    "    \n",
    "    else:\n",
    "        cols = []\n",
    "        values = []\n",
    "        d = dpr_se.to_dict()\n",
    "        for k,v in d.items():\n",
    "            cols.append(f'''\"{k}\"''')\n",
    "            \n",
    "            if 'Date' in k:\n",
    "                values.append(f\"\"\"'{v.strftime(format=\"%Y-%m-%d\")}'\"\"\")\n",
    "                continue\n",
    "\n",
    "            values.append(f\"{float(v)}\")\n",
    "        \n",
    "        insert_query = f'''INSERT INTO emcdata.\"RealTimeDPR\" ({\", \".join(cols)}) \\n VALUEs ({\", \".join(values)});'''\n",
    "        # print(insert_query)\n",
    "        conn.execute(text(insert_query))\n",
    "        conn.commit()\n",
    "        print(\".\", end=\"\")\n",
    "        return 1"
   ]
  },
  {
   "cell_type": "markdown",
   "metadata": {},
   "source": [
    "#### LAR to DB"
   ]
  },
  {
   "cell_type": "code",
   "execution_count": 98,
   "metadata": {},
   "outputs": [],
   "source": [
    "def db_lar(lar_df: pd.DataFrame):\n",
    "    new = 0\n",
    "    exist = 0\n",
    "\n",
    "    for row in range(lar_df.shape[0]):\n",
    "        lar_se = lar_df.iloc[row]\n",
    "\n",
    "        # check existing row\n",
    "        row_exists_query = f\"\"\"\n",
    "            SELECT 1 FROM emcdata.\"RealTimeLAR\"\n",
    "                WHERE \n",
    "                    \"Date\"='{lar_se['Date'].strftime(format=\"%Y-%m-%d\")}' AND \n",
    "                    \"Period\"={lar_se['Period']} AND \n",
    "                    \"LoadScenario\"='{lar_se['LoadScenario']}' AND\n",
    "                    \"ForecastDate\"='{lar_se['ForecastDate'].strftime(format=\"%Y-%m-%d\")}' AND \n",
    "                    \"ForecastPeriod\"={lar_se['ForecastPeriod']}  \n",
    "            ;\n",
    "            \"\"\"\n",
    "        # print(row_exists_query)\n",
    "        row_exists = conn.execute(text(row_exists_query)).scalar()\n",
    "        # print(row_exists)\n",
    "        \n",
    "        # continue\n",
    "\n",
    "        if row_exists:\n",
    "\n",
    "            set_pairs = []\n",
    "            d = lar_se.to_dict()\n",
    "            for k,v in d.items():\n",
    "                \n",
    "                if 'Date' in k:\n",
    "                    set_pairs.append(f\"\"\"\"{k}\"='{v.strftime(format=\"%Y-%m-%d\")}'\"\"\")\n",
    "                    continue\n",
    "\n",
    "                if 'Scenario' in k:\n",
    "                    set_pairs.append(f\"\"\"\"{k}\"='{v}'\"\"\")\n",
    "                    continue\n",
    "\n",
    "                set_pairs.append(f\"\"\"\"{k}\"={float(v)}\"\"\")\n",
    "            \n",
    "            update_query = f'''\n",
    "                UPDATE emcdata.\"RealTimeLAR\" \n",
    "                    SET {\", \".join(set_pairs)}\n",
    "                    WHERE \n",
    "                        \"Date\"='{lar_se['Date'].strftime(format=\"%Y-%m-%d\")}' AND \n",
    "                        \"Period\"={lar_se['Period']} AND \n",
    "                        \"LoadScenario\"='{lar_se['LoadScenario']}' AND\n",
    "                        \"ForecastDate\"='{lar_se['ForecastDate'].strftime(format=\"%Y-%m-%d\")}' AND \n",
    "                        \"ForecastPeriod\"={lar_se['ForecastPeriod']} \n",
    "                ;\n",
    "                '''\n",
    "            # print(update_query)\n",
    "\n",
    "            conn.execute(text(update_query))\n",
    "            conn.commit()\n",
    "            print(\"*\", end=\"\")\n",
    "            \n",
    "            exist += 1\n",
    "        else:\n",
    "            cols = []\n",
    "            values = []\n",
    "            d = lar_se.to_dict()\n",
    "            for k,v in d.items():\n",
    "                cols.append(f'''\"{k}\"''')\n",
    "                \n",
    "                if 'Date' in k:\n",
    "                    values.append(f\"\"\"'{v.strftime(format=\"%Y-%m-%d\")}'\"\"\")\n",
    "                    continue\n",
    "                \n",
    "                if 'Scenario' in k:\n",
    "                    values.append(f\"\"\"'{v}'\"\"\")\n",
    "                    continue\n",
    "\n",
    "                values.append(f\"{float(v)}\")\n",
    "            \n",
    "            insert_query = f'''INSERT INTO emcdata.\"RealTimeLAR\" ({\", \".join(cols)}) \\n VALUEs ({\", \".join(values)});'''\n",
    "            # print(insert_query)\n",
    "\n",
    "            conn.execute(text(insert_query))\n",
    "            conn.commit()\n",
    "            print(\".\", end=\"\")\n",
    "\n",
    "            new += 1\n",
    "\n",
    "    return new, exist"
   ]
  },
  {
   "cell_type": "markdown",
   "metadata": {},
   "source": [
    "### Main Process"
   ]
  },
  {
   "cell_type": "code",
   "execution_count": 99,
   "metadata": {},
   "outputs": [],
   "source": [
    "# This is used to create the \"RealTimeDPR\" table.\n",
    "# dpr_df.to_sql(\"RealTimeDPR\", conn, index=False, if_exists='replace')"
   ]
  },
  {
   "cell_type": "code",
   "execution_count": 100,
   "metadata": {},
   "outputs": [
    {
     "name": "stdout",
     "output_type": "stream",
     "text": [
      " DPR*"
     ]
    }
   ],
   "source": [
    "exist = 0\n",
    "new = 0\n",
    "\n",
    "''' DPR '''\n",
    "print(\" DPR\", end='')\n",
    "add_new = db_dpr(dpr_df)\n",
    "\n",
    "if add_new: \n",
    "    new += 1\n",
    "else: exist += 1\n",
    "\n",
    "conn.commit()"
   ]
  },
  {
   "cell_type": "code",
   "execution_count": 101,
   "metadata": {},
   "outputs": [],
   "source": [
    "# This is used to create the \"RealTimeLAR\" table.\n",
    "# lar_h_df.to_sql(\"RealTimeLAR\", conn, index=False, if_exists='replace')"
   ]
  },
  {
   "cell_type": "code",
   "execution_count": 102,
   "metadata": {},
   "outputs": [
    {
     "name": "stdout",
     "output_type": "stream",
     "text": [
      " LAR...................................."
     ]
    }
   ],
   "source": [
    "print(\" LAR\", end='')\n",
    "\n",
    "for lar in [lar_h_df, lar_m_df, lar_l_df]:\n",
    "    add_new, add_exist = db_lar(lar)\n",
    "\n",
    "    new +=add_new\n",
    "    exist += add_exist\n"
   ]
  },
  {
   "cell_type": "code",
   "execution_count": 103,
   "metadata": {},
   "outputs": [],
   "source": [
    "conn.commit()\n",
    "conn.close()"
   ]
  },
  {
   "cell_type": "code",
   "execution_count": 104,
   "metadata": {},
   "outputs": [
    {
     "name": "stdout",
     "output_type": "stream",
     "text": [
      " All done! Updated 1 rows. Added 36 rows.\n"
     ]
    }
   ],
   "source": [
    "print(\" All done!\", end='')\n",
    "print(f\" Updated {exist} rows. Added {new} rows.\")"
   ]
  }
 ],
 "metadata": {
  "kernelspec": {
   "display_name": "emcdata",
   "language": "python",
   "name": "python3"
  },
  "language_info": {
   "codemirror_mode": {
    "name": "ipython",
    "version": 3
   },
   "file_extension": ".py",
   "mimetype": "text/x-python",
   "name": "python",
   "nbconvert_exporter": "python",
   "pygments_lexer": "ipython3",
   "version": "3.11.8"
  }
 },
 "nbformat": 4,
 "nbformat_minor": 2
}
