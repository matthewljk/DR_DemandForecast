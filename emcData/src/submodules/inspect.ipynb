{
 "cells": [
  {
   "cell_type": "markdown",
   "metadata": {},
   "source": [
    "# Inspect EMC data in local DB"
   ]
  },
  {
   "cell_type": "markdown",
   "metadata": {},
   "source": [
    "## Data availibility"
   ]
  },
  {
   "cell_type": "code",
   "execution_count": 1,
   "metadata": {},
   "outputs": [],
   "source": [
    "import pandas as pd\n",
    "\n",
    "import os\n",
    "from os.path import join\n",
    "from dotenv import load_dotenv\n",
    "\n",
    "import urllib3\n",
    "urllib3.disable_warnings(urllib3.exceptions.InsecureRequestWarning)"
   ]
  },
  {
   "cell_type": "code",
   "execution_count": 2,
   "metadata": {},
   "outputs": [],
   "source": [
    "from sqlalchemy import create_engine, text\n",
    "\n",
    "ROOT = None\n",
    "if ROOT:\n",
    "    # Load the environment variables from the .env file\n",
    "    env_file = join(ROOT, '.env')\n",
    "    load_dotenv(env_file)\n",
    "\n",
    "    # Get the values of host, user, pswd, db, and schema from the environment variables\n",
    "    DBHOST = os.getenv('host')\n",
    "    DBUSER = os.getenv('user')\n",
    "    DBPSWD = os.getenv('pswd')\n",
    "    DBNAME = os.getenv('db')\n",
    "    SCHEMA = 'public'\n",
    "else:\n",
    "    DBHOST = 'postgres-1.cvh49u2v99nl.ap-southeast-1.rds.amazonaws.com'\n",
    "    DBUSER = 'sdcmktops'\n",
    "    DBPSWD = 'SDCsdc1234'\n",
    "    DBNAME = 'postgres'\n",
    "    SCHEMA = 'public'\n",
    "\n",
    "# Use the values as needed\n",
    "engine = create_engine(f\"postgresql://{DBUSER}:{DBPSWD}@{DBHOST}/{DBNAME}?options=-csearch_path%3D{SCHEMA}\", echo=False)"
   ]
  },
  {
   "cell_type": "markdown",
   "metadata": {},
   "source": [
    "### RealTimeDPR"
   ]
  },
  {
   "cell_type": "code",
   "execution_count": 3,
   "metadata": {},
   "outputs": [],
   "source": [
    "import pandas as pd\n",
    "\n",
    "# Assuming 'df' is the dataframe containing the 'RealTimeDPR' table\n",
    "# Assuming 'engine' is the SQLAlchemy engine object connected to the database\n",
    "df = pd.read_sql_table('RealTimeDPR', engine)\n",
    "dates = df['Date'].unique()"
   ]
  },
  {
   "cell_type": "code",
   "execution_count": 4,
   "metadata": {},
   "outputs": [],
   "source": [
    "date_range = pd.date_range(\n",
    "    start=dates[0], \n",
    "    end=dates[-1], \n",
    "    freq='D'\n",
    "    ).strftime('%Y-%m-%d')\n",
    "\n",
    "incomplete_dates = []\n",
    "not_updated_dates = []\n",
    "for date in date_range:\n",
    "    count = df[df['Date'] == date].shape[0]\n",
    "    if count != 48:\n",
    "        # print(f\"Date {date} has {count} records instead of 48\")\n",
    "        incomplete_dates.append(date)\n",
    "        \n",
    "    empty_count = df[df[\"Date\"]==date]['CUSEP'].isna().sum()\n",
    "    if empty_count > 0:\n",
    "        # print(f\"Date {date} has {empty_count} incomplete records\")\n",
    "        not_updated_dates.append(date)\n"
   ]
  },
  {
   "cell_type": "code",
   "execution_count": 8,
   "metadata": {},
   "outputs": [],
   "source": [
    "make_up_tasks = set(incomplete_dates + not_updated_dates)\n",
    "make_up_tasks = list(make_up_tasks)\n",
    "make_up_tasks.sort()\n",
    "\n",
    "with open('../tmp/missing_dpr.txt', 'w') as f:\n",
    "    for task in make_up_tasks:\n",
    "        f.write(task + '\\n')"
   ]
  },
  {
   "cell_type": "code",
   "execution_count": null,
   "metadata": {},
   "outputs": [],
   "source": []
  }
 ],
 "metadata": {
  "kernelspec": {
   "display_name": "spgroup",
   "language": "python",
   "name": "python3"
  },
  "language_info": {
   "codemirror_mode": {
    "name": "ipython",
    "version": 3
   },
   "file_extension": ".py",
   "mimetype": "text/x-python",
   "name": "python",
   "nbconvert_exporter": "python",
   "pygments_lexer": "ipython3",
   "version": "3.12.2"
  }
 },
 "nbformat": 4,
 "nbformat_minor": 2
}
